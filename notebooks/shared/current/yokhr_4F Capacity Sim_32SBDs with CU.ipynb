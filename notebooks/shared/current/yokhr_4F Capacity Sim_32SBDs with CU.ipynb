{
 "cells": [
  {
   "cell_type": "markdown",
   "metadata": {},
   "source": [
    "# KIX 4F Simulation (yokhr) - 32 SBDs with CU airlines"
   ]
  },
  {
   "cell_type": "markdown",
   "metadata": {},
   "source": [
    "## Imports and Initializations"
   ]
  },
  {
   "cell_type": "code",
   "execution_count": null,
   "metadata": {},
   "outputs": [],
   "source": [
    "%load_ext autoreload\n",
    "%autoreload 2\n",
    "\n",
    "from copy import deepcopy\n",
    "\n",
    "import matplotlib.pyplot as plt\n",
    "import numpy as np\n",
    "import pandas as pd\n",
    "import seaborn as sns\n",
    "\n",
    "from src.utils.simparam import SimParam\n",
    "from src.simfunc.simulation import Simulation\n",
    "from src.utils.optimizer import custmin\n",
    "from src.utils.utils import day_graph, minutes_to_hms\n",
    "\n",
    "%matplotlib inline\n",
    "%config InlineBackend.figure_format='retina'"
   ]
  },
  {
   "cell_type": "markdown",
   "metadata": {},
   "source": [
    "## FY2019 Schedule & T1 6kPAX Schedule"
   ]
  },
  {
   "cell_type": "code",
   "execution_count": null,
   "metadata": {},
   "outputs": [],
   "source": [
    "# Get 6kPAX schedule\n",
    "simparam6k = SimParam()\n",
    "path_to_6k_sched = (\n",
    "    r\"/home/yokhr/projects/KAPpaxsim/data/processed/Schedule (30th terminal peak, 6000\"\n",
    "    r\" pax)_PROCESSED_yokhr.xlsx\"\n",
    ")\n",
    "simparam6k.schedule_from_path(path_to_6k_sched)\n",
    "simparam6k.schedule_cleanup().schedule_filter().assign_check_in()\n",
    "simparam6k.show_up_from_file().assign_flight_show_up_category_default().assign_show_up()\n",
    "\n",
    "# Get FY2019 data\n",
    "data = pd.read_excel(\n",
    "    io=\"/home/yokhr/projects/KAPpaxsim/data/raw/FY2019_FY2025 merge.xlsx\",\n",
    "    header=0,\n",
    "    sheet_name=\"IntlP_FY19-FY25\",\n",
    ")\n",
    "\n",
    "# Format the file\n",
    "mask2019 = (data[\"FY\"] == \"FY2019\") & (data[\"Day Of Week\"] == \"Saturday\")\n",
    "data2019 = data[mask2019].reset_index().copy()\n",
    "data2019[\"Sector\"] = data2019[\"Int/Dom\"]\n",
    "data2019[\"Flight Date\"] = pd.to_datetime(\"2019-10-13\")\n",
    "data2019[\"Scheduled Time\"] = data2019[\"5min Interval\"].apply(\n",
    "    lambda x: f\"{x // 100}:{x % 100}:00\",\n",
    ")\n",
    "data2019[\"Category(P/C/O)\"] = data2019[\"Category(P/C/O)\"].apply(lambda x: x[0])\n",
    "\n",
    "# Create simparam2019\n",
    "simparam2019 = SimParam()\n",
    "simparam2019.schedule_from_df(data2019).schedule_cleanup().schedule_filter(\n",
    "    date_str=\"2019-10-13\"\n",
    ").assign_check_in()\n",
    "simparam2019.show_up_from_file().assign_flight_show_up_category_default().assign_show_up()\n",
    "\n",
    "# Plot\n",
    "simparam2019.plot_name = \"FY19\"\n",
    "simparam6k.plot_name = \"6kPAX\"\n",
    "simparam2019.plot_std()\n",
    "simparam2019.plot_counters()"
   ]
  },
  {
   "cell_type": "markdown",
   "metadata": {},
   "source": [
    "## Select ALs + Set Parameters"
   ]
  },
  {
   "cell_type": "code",
   "execution_count": null,
   "metadata": {},
   "outputs": [],
   "source": [
    "selected_ALs = [\n",
    "    \"AF\",\n",
    "    \"KL\",\n",
    "    \"NH\",\n",
    "    \"JL\",\n",
    "    \"CX\",\n",
    "    \"EK\",\n",
    "    \"OZ\",\n",
    "    \"UA\",\n",
    "    \"AY\",\n",
    "    \"SQ\",\n",
    "    \"KE\",\n",
    "    \"CA\",\n",
    "    \"BA\",\n",
    "    \"QF\",\n",
    "    \"VN\",\n",
    "]\n",
    "\n",
    "RNm_kiosk = 92  # Resource number of Kiosk\n",
    "RNm_CUSBD_ls = [32]  # Resource number of CUSBD\n",
    "Ptm_kiosk = 70  # Process time of Kiosk\n",
    "Ptm_CUSBD_ls = [60]  # Process time of CUSBD\n",
    "Ptm_CkIn = 80  # Process time of CheckIn\n",
    "HrSTD_CUSBD = 2.5  # Hours to STD of CUSBD\n",
    "HrSTD_CkIn = 2.5  # Hours to STD of CheckIn"
   ]
  },
  {
   "cell_type": "markdown",
   "metadata": {},
   "source": [
    "## Plot Graph & Processing Time Simulation in FY19"
   ]
  },
  {
   "cell_type": "code",
   "execution_count": null,
   "metadata": {},
   "outputs": [],
   "source": [
    "airline_CU_2019 = []\n",
    "\n",
    "for Ptm_CUSBD in Ptm_CUSBD_ls:\n",
    "    for RNm_CUSBD in RNm_CUSBD_ls:\n",
    "        for i in range(len(selected_ALs)):\n",
    "            airline_CU_2019.append(selected_ALs[i])\n",
    "\n",
    "            # Set CU airlines & Tradi airlines\n",
    "            simparam = simparam2019\n",
    "            simparam_tradi = deepcopy(simparam)\n",
    "\n",
    "            all_airlines = simparam.df_Counters.iloc[:, :-1].sum(axis=0).index.to_list()\n",
    "            airlines_tradi = [x for x in all_airlines if x not in airline_CU_2019]\n",
    "            mask_airlines_CU = simparam.schedule[\"Airline Code\"].isin(airline_CU_2019)\n",
    "            simparam_tradi.schedule = simparam_tradi.schedule[\n",
    "                mask_airlines_CU == False\n",
    "            ].copy()\n",
    "            simparam_tradi.assign_check_in()\n",
    "\n",
    "            # Plot check-in graph\n",
    "            print(f\"N [CU airlines]: {len(airline_CU_2019)} {airline_CU_2019}\")\n",
    "            print(f\"N [Tradi airlines]: {len(airlines_tradi)} {sorted(airlines_tradi)}\")\n",
    "            print(f\"MAX Tradi Counters: {simparam_tradi.df_Counters['total'].max()}\")\n",
    "            simparam_tradi.plot_name = f\"{len(airlines_tradi)} Tradi airlines\"\n",
    "            simparam_tradi.plot_counters(compare_with=simparam)\n",
    "\n",
    "            # Define PaxType\n",
    "            simparam2019.df_Pax[\"pax_type\"] = simparam2019.df_Pax[\"Airline\"].apply(\n",
    "                lambda x: \"CUSBD\" if x in airline_CU_2019 else \"tradi\"\n",
    "            )\n",
    "            simparam2019.schedule[\"pax_type\"] = simparam2019.schedule[\n",
    "                \"Airline Code\"\n",
    "            ].apply(lambda x: \"CUSBD\" if x in airline_CU_2019 else \"tradi\")\n",
    "            simparam2019.plot_std(by_col=True, col_name=\"pax_type\")\n",
    "\n",
    "            # Set Parameters\n",
    "            simparam2019.dct_resource = {\n",
    "                \"kiosk\": RNm_kiosk,\n",
    "                \"CUSBD\": RNm_CUSBD,\n",
    "            }\n",
    "            simparam2019.dct_processes = {\n",
    "                \"kiosk\": Ptm_kiosk,\n",
    "                \"CUSBD\": Ptm_CUSBD,\n",
    "                \"checkin\": Ptm_CkIn,\n",
    "            }\n",
    "            simparam2019.dct_process_sequence = {\n",
    "                \"tradi\": [\n",
    "                    [\"kiosk\", \"wait_opening\", \"checkin\"],\n",
    "                    {\"hour_to_std\": HrSTD_CkIn},\n",
    "                ],\n",
    "                \"CUSBD\": [\n",
    "                    [\"kiosk\", \"wait_opening\", \"CUSBD\"],\n",
    "                    {\"hour_to_std\": HrSTD_CUSBD},\n",
    "                ],\n",
    "            }\n",
    "\n",
    "            # Print Parameter\n",
    "            print(f\"The number of CUSBD: {RNm_CUSBD}\")\n",
    "            print(f\"Processing Time [CUSBD]: {Ptm_CUSBD} sec\")\n",
    "            print(f\"Opening hrs before STD [CUSBD]: {HrSTD_CUSBD} hr\")\n",
    "\n",
    "            # Processing Simulation\n",
    "            simulation2019 = Simulation(simparam2019)\n",
    "            simulation2019.generate_checkin().generate_pax().run()\n",
    "            simulation2019.format_df_result()\n",
    "\n",
    "            # Print Top 90% pax waiting time\n",
    "            wtCUSBD = round(simulation2019.dct_hist_wait_time[\"CUSBD\"].quantile(0.9), 2)\n",
    "            print(f\"Top 90% waiting time [CUSBD]: {wtCUSBD} min\")\n",
    "            wtCkIn = round(\n",
    "                simulation2019.dct_hist_wait_time[\"checkin\"].quantile(0.9), 2\n",
    "            )\n",
    "            print(f\"Top 90% waiting time [CkIn]: {wtCkIn} min\")\n",
    "\n",
    "            # Plot graph\n",
    "            simulation2019.plot_result()"
   ]
  }
 ],
 "metadata": {
  "kernelspec": {
   "display_name": "Python 3.8.10 ('KAPpaxsim')",
   "language": "python",
   "name": "python3"
  },
  "language_info": {
   "codemirror_mode": {
    "name": "ipython",
    "version": 3
   },
   "file_extension": ".py",
   "mimetype": "text/x-python",
   "name": "python",
   "nbconvert_exporter": "python",
   "pygments_lexer": "ipython3",
   "version": "3.8.10"
  },
  "vscode": {
   "interpreter": {
    "hash": "d939b384759c202997b4dd5c726324d5ec6e19f01b858976ad65b9b67297dd8b"
   }
  }
 },
 "nbformat": 4,
 "nbformat_minor": 2
}
