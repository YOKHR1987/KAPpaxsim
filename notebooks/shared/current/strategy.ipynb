{
 "cells": [
  {
   "cell_type": "markdown",
   "metadata": {},
   "source": [
    "# Imports"
   ]
  },
  {
   "cell_type": "code",
   "execution_count": null,
   "metadata": {},
   "outputs": [],
   "source": [
    "%load_ext autoreload\n",
    "%autoreload 2\n",
    "\n",
    "from copy import deepcopy\n",
    "\n",
    "import matplotlib.pyplot as plt\n",
    "import numpy as np\n",
    "import pandas as pd\n",
    "import seaborn as sns\n",
    "\n",
    "from src.simfunc.simulation import Simulation  # class for simulation\n",
    "from src.utils.optimizer import custmin\n",
    "from src.utils.simparam import SimParam  # class for simulation parameters\n",
    "from src.utils.utils import day_graph, minutes_to_hms\n",
    "\n",
    "%matplotlib inline\n",
    "%config InlineBackend.figure_format='retina'"
   ]
  },
  {
   "cell_type": "markdown",
   "metadata": {},
   "source": [
    "# STD FY2019 vs T1 renovation design"
   ]
  },
  {
   "cell_type": "code",
   "execution_count": null,
   "metadata": {},
   "outputs": [],
   "source": [
    "# get FY2019 data\n",
    "data = pd.read_excel(\n",
    "    io=\"/home/antoine/projects/pax-flow-sim/data/raw/FY2019_FY2025 merge.xlsx\",\n",
    "    header=0,\n",
    "    sheet_name=\"IntlP_FY19-FY25\",\n",
    ")\n",
    "\n",
    "# 7kPax/hour std schedule\n",
    "simparamT1 = SimParam()\n",
    "path_to_6k_sched = (\n",
    "    r\"/home/antoine/projects/pax-flow-sim/data/processed/Schedule (30th terminal\"\n",
    "    r\" peak, 6000 pax)_PROCESSED.xlsx\"\n",
    ")\n",
    "simparamT1.schedule_from_path(path_to_6k_sched)\n",
    "simparamT1.schedule_cleanup().schedule_filter().assign_check_in()\n",
    "simparamT1.show_up_from_file().assign_flight_show_up_category_default().assign_show_up()\n",
    "\n",
    "# format the file from aero\n",
    "mask2019 = (data[\"FY\"] == \"FY2019\") & (data[\"Day Of Week\"] == \"Saturday\")\n",
    "data2019 = data[mask2019].reset_index().copy()\n",
    "data2019[\"Sector\"] = data2019[\"Int/Dom\"]\n",
    "data2019[\"Flight Date\"] = pd.to_datetime(\"2019-10-13\")\n",
    "data2019[\"Scheduled Time\"] = data2019[\"5min Interval\"].apply(\n",
    "    lambda x: f\"{x // 100}:{x % 100}:00\",\n",
    ")\n",
    "data2019[\"Category(P/C/O)\"] = data2019[\"Category(P/C/O)\"].apply(lambda x: x[0])\n",
    "\n",
    "# create simparam2019\n",
    "simparam2019 = SimParam()\n",
    "simparam2019.schedule_from_df(data2019).schedule_cleanup().schedule_filter(\n",
    "    date_str=\"2019-10-13\"\n",
    ").assign_check_in()\n",
    "simparam2019.show_up_from_file().assign_flight_show_up_category_default().assign_show_up()\n",
    "# define plot name\n",
    "simparamT1.plot_name = \"T1\"\n",
    "simparam2019.plot_name = \"FY19\"\n",
    "\n",
    "# plot both for comparison\n",
    "simparamT1.plot_std(compare_with=simparam2019)"
   ]
  },
  {
   "cell_type": "code",
   "execution_count": null,
   "metadata": {},
   "outputs": [],
   "source": [
    "simparamT1.plot_counters(compare_with=simparam2019)"
   ]
  },
  {
   "cell_type": "code",
   "execution_count": null,
   "metadata": {},
   "outputs": [],
   "source": [
    "# airlines from survey\n",
    "selected_ALs = [\n",
    "    [  # Pattern 1: All Green for CUSBD & CUCkIn\n",
    "        \"AAR\",\n",
    "        \"ACA\",\n",
    "        \"CCA\",\n",
    "        \"CPA\",\n",
    "        \"CQH\",\n",
    "        \"CRK\",\n",
    "        \"CSC\",\n",
    "        \"CSZ\",\n",
    "        \"CXA\",\n",
    "        \"EVA\",\n",
    "        \"GCR\",\n",
    "        \"JJA\",\n",
    "        \"JJP\",\n",
    "        \"JST\",\n",
    "        \"SJX\",\n",
    "        \"TAX\",\n",
    "        \"XAX\",\n",
    "    ],\n",
    "    [  # Pattern 2: Not Negative for CUSBD & CUCkIn\n",
    "        \"AAR\",\n",
    "        \"ACA\",\n",
    "        \"AMU\",\n",
    "        \"ANA\",\n",
    "        \"ANZ\",\n",
    "        \"BAW\",\n",
    "        \"CAL\",\n",
    "        \"CBJ\",\n",
    "        \"CCA\",\n",
    "        \"CEB\",\n",
    "        \"CES\",\n",
    "        \"CPA\",\n",
    "        \"CQH\",\n",
    "        \"CRK\",\n",
    "        \"CSC\",\n",
    "        \"CSH\",\n",
    "        \"CSN\",\n",
    "        \"CSZ\",\n",
    "        \"CXA\",\n",
    "        \"DKH\",\n",
    "        \"DLH\",\n",
    "        \"EVA\",\n",
    "        \"FIN\",\n",
    "        \"GCR\",\n",
    "        \"GIA\",\n",
    "        \"HKE\",\n",
    "        \"JJA\",\n",
    "        \"JJP\",\n",
    "        \"JNA\",\n",
    "        \"JSA\",\n",
    "        \"JST\",\n",
    "        \"OKA\",\n",
    "        \"SJX\",\n",
    "        \"SWR\",\n",
    "        \"TAX\",\n",
    "        \"THA\",\n",
    "        \"TLM\",\n",
    "        \"UAE\",\n",
    "        \"XAX\",\n",
    "    ],\n",
    "    [  # Pattern 3: Agree on CUSBD\n",
    "        \"AAR\",\n",
    "        \"ABL\",\n",
    "        \"ACA\",\n",
    "        \"AMU\",\n",
    "        \"ANA\",\n",
    "        \"ANZ\",\n",
    "        \"CAL\",\n",
    "        \"CEB\",\n",
    "        \"CES\",\n",
    "        \"CPA\",\n",
    "        \"CQH\",\n",
    "        \"CSC\",\n",
    "        \"CSH\",\n",
    "        \"CXA\",\n",
    "        \"DKH\",\n",
    "        \"EVA\",\n",
    "        \"FIN\",\n",
    "        \"GCR\",\n",
    "        \"HKE\",\n",
    "        \"JAL\",\n",
    "        \"JJA\",\n",
    "        \"JJP\",\n",
    "        \"JNA\",\n",
    "        \"JSA\",\n",
    "        \"JST\",\n",
    "        \"KAL\",\n",
    "        \"MAS\",\n",
    "        \"OKA\",\n",
    "        \"SIA\",\n",
    "        \"SJX\",\n",
    "        \"TAX\",\n",
    "        \"TWB\",\n",
    "        \"UAE\",\n",
    "        \"XAX\",\n",
    "    ],\n",
    "    [  # Pattern 4: Not disagree on CUSBD\n",
    "        \"AAR\",\n",
    "        \"ABL\",\n",
    "        \"ACA\",\n",
    "        \"AFR\",\n",
    "        \"AMU\",\n",
    "        \"ANA\",\n",
    "        \"ANZ\",\n",
    "        \"CAL\",\n",
    "        \"CCA\",\n",
    "        \"CDC\",\n",
    "        \"CEB\",\n",
    "        \"CES\",\n",
    "        \"CPA\",\n",
    "        \"CQH\",\n",
    "        \"CRK\",\n",
    "        \"CSC\",\n",
    "        \"CSH\",\n",
    "        \"CSZ\",\n",
    "        \"CXA\",\n",
    "        \"DKH\",\n",
    "        \"EVA\",\n",
    "        \"FIN\",\n",
    "        \"GCR\",\n",
    "        \"GIA\",\n",
    "        \"HKE\",\n",
    "        \"JAL\",\n",
    "        \"JJA\",\n",
    "        \"JJP\",\n",
    "        \"JNA\",\n",
    "        \"JSA\",\n",
    "        \"JST\",\n",
    "        \"KAL\",\n",
    "        \"KLM\",\n",
    "        \"MAS\",\n",
    "        \"OKA\",\n",
    "        \"SIA\",\n",
    "        \"SJX\",\n",
    "        \"TAX\",\n",
    "        \"TWB\",\n",
    "        \"UAE\",\n",
    "        \"XAX\",\n",
    "    ],\n",
    "]"
   ]
  },
  {
   "cell_type": "code",
   "execution_count": null,
   "metadata": {},
   "outputs": [],
   "source": [
    "# Most likely case\n",
    "airlines_CU = selected_ALs[2]\n",
    "simparamT1.df_Pax[\"pax_type\"] = simparamT1.df_Pax[\"Airline\"].apply(\n",
    "    lambda x: \"CUSBD\" if x in airlines_CU else \"tradi\"\n",
    ")\n",
    "simparamT1.schedule[\"pax_type\"] = simparamT1.schedule[\"Airline Code\"].apply(\n",
    "    lambda x: \"CUSBD\" if x in airlines_CU else \"tradi\"\n",
    ")"
   ]
  },
  {
   "cell_type": "code",
   "execution_count": null,
   "metadata": {},
   "outputs": [],
   "source": [
    "simparamT1.plot_std(\n",
    "    by_col=True, col_name=\"pax_type\", compare_with=simparam2019, reverse_cat=True\n",
    ")"
   ]
  },
  {
   "cell_type": "code",
   "execution_count": null,
   "metadata": {},
   "outputs": [],
   "source": []
  },
  {
   "cell_type": "code",
   "execution_count": null,
   "metadata": {},
   "outputs": [],
   "source": [
    "# simulation of waiting times\n",
    "simparamT1.dct_resource = {\n",
    "    \"kiosk\": 92,\n",
    "    \"CUSBD\": 32,\n",
    "}\n",
    "\n",
    "simparamT1.dct_processes = {\n",
    "    \"kiosk\": 70,\n",
    "    \"CUSBD\": 60,\n",
    "    \"checkin\": 80,\n",
    "}\n",
    "\n",
    "simparamT1.dct_process_sequence = {\n",
    "    \"tradi\": [\n",
    "        [\"kiosk\", \"wait_opening\", \"checkin\"],\n",
    "        {\"hour_to_std\": 2.5},\n",
    "    ],\n",
    "    \"CUSBD\": [\n",
    "        [\"kiosk\", \"wait_opening\", \"CUSBD\"],\n",
    "        {\"hour_to_std\": 2.5},\n",
    "    ],\n",
    "}"
   ]
  },
  {
   "cell_type": "code",
   "execution_count": null,
   "metadata": {},
   "outputs": [],
   "source": [
    "simulationT1_pat3 = Simulation(simparamT1)\n",
    "simulationT1_pat3.generate_checkin().generate_pax().run()\n",
    "simulationT1_pat3.format_df_result()"
   ]
  },
  {
   "cell_type": "code",
   "execution_count": null,
   "metadata": {},
   "outputs": [],
   "source": [
    "simulationT1_pat3.plot_result()"
   ]
  },
  {
   "cell_type": "code",
   "execution_count": null,
   "metadata": {},
   "outputs": [],
   "source": [
    "# simulation of waiting times\n",
    "simparam2019.dct_resource = {\n",
    "    \"kiosk\": 92,\n",
    "    \"CUSBD\": 32,\n",
    "}\n",
    "\n",
    "simparam2019.dct_processes = {\n",
    "    \"kiosk\": 70,\n",
    "    \"checkin\": 80,\n",
    "}\n",
    "\n",
    "simparam2019.dct_process_sequence = {\n",
    "    \"tradi\": [\n",
    "        [\"kiosk\", \"wait_opening\", \"checkin\"],\n",
    "        {\"hour_to_std\": 2.5},\n",
    "    ],\n",
    "}"
   ]
  },
  {
   "cell_type": "code",
   "execution_count": null,
   "metadata": {},
   "outputs": [],
   "source": [
    "list(simparam2019.dct_processes.keys())"
   ]
  },
  {
   "cell_type": "code",
   "execution_count": null,
   "metadata": {},
   "outputs": [],
   "source": [
    "simparam2019.df_Pax[\"pax_type\"] = \"tradi\"\n",
    "simulation2019 = Simulation(simparam2019)"
   ]
  },
  {
   "cell_type": "code",
   "execution_count": null,
   "metadata": {},
   "outputs": [],
   "source": [
    "simulation2019.generate_checkin().generate_pax().run()"
   ]
  },
  {
   "cell_type": "code",
   "execution_count": null,
   "metadata": {},
   "outputs": [],
   "source": [
    "simulation2019.format_df_result()"
   ]
  },
  {
   "cell_type": "code",
   "execution_count": null,
   "metadata": {},
   "outputs": [],
   "source": [
    "simulation2019.plot_result(same_scale_as=simulationT1_pat3)\n",
    "simulationT1_pat3.plot_result(same_scale_as=simulation2019)"
   ]
  },
  {
   "cell_type": "markdown",
   "metadata": {},
   "source": [
    "# cost function test for N"
   ]
  },
  {
   "cell_type": "code",
   "execution_count": null,
   "metadata": {},
   "outputs": [],
   "source": [
    "def cost_func(\n",
    "    simparam: SimParam,\n",
    "    target: float,  # target value for waiting time\n",
    "    resource: str,  # name of the process\n",
    "    N,  # N that will be tested\n",
    "):\n",
    "    \"\"\"\n",
    "    cost function for target waiting time depenging on variable\n",
    "    variable can be any of simparam attributes\n",
    "    cost is only based on waiting time but can be improved in the future\n",
    "    \"\"\"\n",
    "\n",
    "    # set number of resource to N\n",
    "    simparam.dct_resource[resource] = N\n",
    "\n",
    "    # test to keep the latest simulation run in memory\n",
    "    global simulation_last\n",
    "\n",
    "    # run the simulation and get the results\n",
    "    simulation_last = Simulation(simparam)\n",
    "    simulation_last.generate_checkin().generate_pax().run()\n",
    "    # we could reduce this by just computing the dct_hist_wait_time\n",
    "    simulation_last.format_df_result()\n",
    "\n",
    "    # evaluate the cost for given criteria\n",
    "    cost = (simulation_last.dct_hist_wait_time[resource].quantile(q=0.9) - target) ** 2\n",
    "\n",
    "    # if nobody waits, penalize high N\n",
    "    if simulation_last.dct_hist_wait_time[resource].quantile(q=0.9) == 0:\n",
    "        cost += N / 1000\n",
    "\n",
    "    # if the top90% Pax waits 8hrs or more, penalize\n",
    "    if simulation_last.dct_hist_wait_time[resource].quantile(q=0.9) >= 7.9 * 60:\n",
    "        cost -= N / 1000\n",
    "\n",
    "    return cost"
   ]
  },
  {
   "cell_type": "code",
   "execution_count": null,
   "metadata": {},
   "outputs": [],
   "source": [
    "# optimize\n",
    "f = lambda N: cost_func(\n",
    "    simparam=simparamT1,\n",
    "    target=10,\n",
    "    resource=\"CUSBD\",\n",
    "    N=N,\n",
    ")\n",
    "res = custmin(\n",
    "    f,\n",
    "    guess=2,\n",
    "    steps=[1],\n",
    ")\n",
    "print(res)\n",
    "\n",
    "simulation_last.plot_result()"
   ]
  },
  {
   "cell_type": "markdown",
   "metadata": {},
   "source": [
    "# if early check-in for CUSBD"
   ]
  },
  {
   "cell_type": "code",
   "execution_count": null,
   "metadata": {},
   "outputs": [],
   "source": [
    "simparamT1_earlyCUSBD = deepcopy(simparamT1)\n",
    "\n",
    "simparamT1_earlyCUSBD.dct_process_sequence = {\n",
    "    \"tradi\": [\n",
    "        [\"kiosk\", \"wait_opening\", \"checkin\"],\n",
    "        {\"hour_to_std\": 2.5},\n",
    "    ],\n",
    "    \"CUSBD\": [\n",
    "        [\"kiosk\", \"wait_opening\", \"CUSBD\"],\n",
    "        {\"hour_to_std\": 3.5},\n",
    "    ],\n",
    "}"
   ]
  },
  {
   "cell_type": "code",
   "execution_count": null,
   "metadata": {},
   "outputs": [],
   "source": [
    "# optimize\n",
    "f = lambda N: cost_func(\n",
    "    simparam=simparamT1,\n",
    "    target=10,\n",
    "    resource=\"CUSBD\",\n",
    "    N=N,\n",
    ")\n",
    "res = custmin(\n",
    "    f,\n",
    "    guess=2,\n",
    "    steps=[1],\n",
    ")\n",
    "print(res)\n",
    "\n",
    "simulation_last.plot_result()"
   ]
  },
  {
   "cell_type": "markdown",
   "metadata": {},
   "source": [
    "# if early checkin tradi + cusbd\n"
   ]
  },
  {
   "cell_type": "code",
   "execution_count": null,
   "metadata": {},
   "outputs": [],
   "source": [
    "simparamT1_earlyall = deepcopy(simparamT1)\n",
    "\n",
    "simparamT1_earlyall.dct_process_sequence = {\n",
    "    \"tradi\": [\n",
    "        [\"kiosk\", \"wait_opening\", \"checkin\"],\n",
    "        {\"hour_to_std\": 3.5},\n",
    "    ],\n",
    "    \"CUSBD\": [\n",
    "        [\"kiosk\", \"wait_opening\", \"CUSBD\"],\n",
    "        {\"hour_to_std\": 3.5},\n",
    "    ],\n",
    "}\n",
    "# NEED TO CHECK THOSE VALUES BELOW !!!!\n",
    "simparamT1_earlyall.assign_check_in(\n",
    "    base_n_counter=3,\n",
    "    onecounter_time=0.75,\n",
    "    seats_per_add_counter=120,\n",
    "    start_time=3.5,\n",
    ")"
   ]
  },
  {
   "cell_type": "code",
   "execution_count": null,
   "metadata": {},
   "outputs": [],
   "source": [
    "# optimize\n",
    "f = lambda N: cost_func(\n",
    "    simparam=simparamT1,\n",
    "    target=10,\n",
    "    resource=\"CUSBD\",\n",
    "    N=N,\n",
    ")\n",
    "res = custmin(\n",
    "    f,\n",
    "    guess=2,\n",
    "    steps=[1],\n",
    ")\n",
    "print(res)\n",
    "\n",
    "simulation_last.plot_result()"
   ]
  }
 ],
 "metadata": {
  "kernelspec": {
   "display_name": "Python 3.8.10 ('KAPpaxsim')",
   "language": "python",
   "name": "python3"
  },
  "language_info": {
   "codemirror_mode": {
    "name": "ipython",
    "version": 3
   },
   "file_extension": ".py",
   "mimetype": "text/x-python",
   "name": "python",
   "nbconvert_exporter": "python",
   "pygments_lexer": "ipython3",
   "version": "3.8.10"
  },
  "vscode": {
   "interpreter": {
    "hash": "e7a9862a44882f962743cd49028888adc68496215b8868d236c027cb2696a468"
   }
  }
 },
 "nbformat": 4,
 "nbformat_minor": 2
}
