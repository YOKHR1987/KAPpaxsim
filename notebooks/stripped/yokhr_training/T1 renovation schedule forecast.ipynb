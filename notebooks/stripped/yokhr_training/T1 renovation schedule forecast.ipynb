{
 "cells": [
  {
   "cell_type": "markdown",
   "id": "d8924977",
   "metadata": {},
   "source": [
    "# Process the original file to match function"
   ]
  },
  {
   "cell_type": "code",
   "execution_count": 1,
   "id": "4dd4b682",
   "metadata": {
    "ExecuteTime": {
     "end_time": "2021-07-05T07:07:37.847329Z",
     "start_time": "2021-07-05T07:07:20.007796Z"
    }
   },
   "outputs": [
    {
     "data": {
      "application/javascript": "\n            setTimeout(function() {\n                var nbb_cell_id = 1;\n                var nbb_unformatted_code = \"# to auto-reload the imports\\n# if we change something in our functions\\n%load_ext autoreload\\n%autoreload 2\\n\\n%load_ext nb_black\\n\\n# import the libraries required to do the work\\nimport numpy as np\\nimport matplotlib.pyplot as plt\\nimport matplotlib.dates as mdates\\nfrom matplotlib.ticker import FuncFormatter\\nimport pandas as pd\\nimport seaborn as sns\\nimport datetime\\nfrom scipy.stats import norm\\nfrom scipy.interpolate import interp1d\\nimport os\\nfrom tqdm.notebook import tqdm\\nimport re\\n\\nfrom src.utils.sharepoint import get_T1_ren_6kPax_schedule\\nfrom decouple import AutoConfig\\nfrom pathlib import Path\";\n                var nbb_formatted_code = \"# to auto-reload the imports\\n# if we change something in our functions\\n%load_ext autoreload\\n%autoreload 2\\n\\n%load_ext nb_black\\n\\n# import the libraries required to do the work\\nimport numpy as np\\nimport matplotlib.pyplot as plt\\nimport matplotlib.dates as mdates\\nfrom matplotlib.ticker import FuncFormatter\\nimport pandas as pd\\nimport seaborn as sns\\nimport datetime\\nfrom scipy.stats import norm\\nfrom scipy.interpolate import interp1d\\nimport os\\nfrom tqdm.notebook import tqdm\\nimport re\\n\\nfrom src.utils.sharepoint import get_T1_ren_6kPax_schedule\\nfrom decouple import AutoConfig\\nfrom pathlib import Path\";\n                var nbb_cells = Jupyter.notebook.get_cells();\n                for (var i = 0; i < nbb_cells.length; ++i) {\n                    if (nbb_cells[i].input_prompt_number == nbb_cell_id) {\n                        if (nbb_cells[i].get_text() == nbb_unformatted_code) {\n                             nbb_cells[i].set_text(nbb_formatted_code);\n                        }\n                        break;\n                    }\n                }\n            }, 500);\n            ",
      "text/plain": [
       "<IPython.core.display.Javascript object>"
      ]
     },
     "metadata": {},
     "output_type": "display_data"
    }
   ],
   "source": [
    "# to auto-reload the imports\n",
    "# if we change something in our functions\n",
    "%load_ext autoreload\n",
    "%autoreload 2\n",
    "\n",
    "%load_ext nb_black\n",
    "\n",
    "# import the libraries required to do the work\n",
    "import numpy as np\n",
    "import matplotlib.pyplot as plt\n",
    "import matplotlib.dates as mdates\n",
    "from matplotlib.ticker import FuncFormatter\n",
    "import pandas as pd\n",
    "import seaborn as sns\n",
    "import datetime\n",
    "from scipy.stats import norm\n",
    "from scipy.interpolate import interp1d\n",
    "import os\n",
    "from tqdm.notebook import tqdm\n",
    "import re\n",
    "\n",
    "from src.utils.sharepoint import get_T1_ren_6kPax_schedule\n",
    "from decouple import AutoConfig\n",
    "from pathlib import Path"
   ]
  },
  {
   "cell_type": "code",
   "execution_count": 2,
   "id": "31e4cbfe",
   "metadata": {
    "ExecuteTime": {
     "end_time": "2021-07-05T07:15:25.868337Z",
     "start_time": "2021-07-05T07:15:23.747677Z"
    }
   },
   "outputs": [
    {
     "data": {
      "application/javascript": "\n            setTimeout(function() {\n                var nbb_cell_id = 2;\n                var nbb_unformatted_code = \"# get the schedule from Sharepoint\\n# app key expired for SharePoint\\n# get_T1_ren_6kPax_schedule()\\n\\n# get the paths to config (could be made as a function for notebooks)\\n\\nDOTENV_FILE_PATH = Path(os.getcwd()) / \\\"../../../data/secret/.env\\\"\\nconfig = AutoConfig(search_path=DOTENV_FILE_PATH)\\n\\npath_relative = config(\\\"T1_ren_6kPax_schedule_path\\\")\\n\\npath_data = Path(os.getcwd()) / \\\"..\\\" / \\\"..\\\" / \\\"..\\\" / path_relative\";\n                var nbb_formatted_code = \"# get the schedule from Sharepoint\\n# app key expired for SharePoint\\n# get_T1_ren_6kPax_schedule()\\n\\n# get the paths to config (could be made as a function for notebooks)\\n\\nDOTENV_FILE_PATH = Path(os.getcwd()) / \\\"../../../data/secret/.env\\\"\\nconfig = AutoConfig(search_path=DOTENV_FILE_PATH)\\n\\npath_relative = config(\\\"T1_ren_6kPax_schedule_path\\\")\\n\\npath_data = Path(os.getcwd()) / \\\"..\\\" / \\\"..\\\" / \\\"..\\\" / path_relative\";\n                var nbb_cells = Jupyter.notebook.get_cells();\n                for (var i = 0; i < nbb_cells.length; ++i) {\n                    if (nbb_cells[i].input_prompt_number == nbb_cell_id) {\n                        if (nbb_cells[i].get_text() == nbb_unformatted_code) {\n                             nbb_cells[i].set_text(nbb_formatted_code);\n                        }\n                        break;\n                    }\n                }\n            }, 500);\n            ",
      "text/plain": [
       "<IPython.core.display.Javascript object>"
      ]
     },
     "metadata": {},
     "output_type": "display_data"
    }
   ],
   "source": [
    "# get the schedule from Sharepoint\n",
    "# app key expired for SharePoint\n",
    "# get_T1_ren_6kPax_schedule()\n",
    "\n",
    "# get the paths to config (could be made as a function for notebooks)\n",
    "\n",
    "DOTENV_FILE_PATH = Path(os.getcwd()) / \"../../../data/secret/.env\"\n",
    "config = AutoConfig(search_path=DOTENV_FILE_PATH)\n",
    "\n",
    "path_relative = config(\"T1_ren_6kPax_schedule_path\")\n",
    "\n",
    "path_data = Path(os.getcwd()) / \"..\" / \"..\" / \"..\" / path_relative"
   ]
  },
  {
   "cell_type": "code",
   "execution_count": 3,
   "id": "de2866ad",
   "metadata": {
    "ExecuteTime": {
     "end_time": "2021-07-05T07:15:26.983016Z",
     "start_time": "2021-07-05T07:15:26.639798Z"
    }
   },
   "outputs": [
    {
     "data": {
      "application/javascript": "\n            setTimeout(function() {\n                var nbb_cell_id = 3;\n                var nbb_unformatted_code = \"# define a function to insert space in flight number\\ndef insert_space_after_letters(test_str: str):\\n    res = re.sub(\\\"[A-Za-z]+\\\", lambda ele: ele[0] + \\\" \\\", test_str)\\n    return res\";\n                var nbb_formatted_code = \"# define a function to insert space in flight number\\ndef insert_space_after_letters(test_str: str):\\n    res = re.sub(\\\"[A-Za-z]+\\\", lambda ele: ele[0] + \\\" \\\", test_str)\\n    return res\";\n                var nbb_cells = Jupyter.notebook.get_cells();\n                for (var i = 0; i < nbb_cells.length; ++i) {\n                    if (nbb_cells[i].input_prompt_number == nbb_cell_id) {\n                        if (nbb_cells[i].get_text() == nbb_unformatted_code) {\n                             nbb_cells[i].set_text(nbb_formatted_code);\n                        }\n                        break;\n                    }\n                }\n            }, 500);\n            ",
      "text/plain": [
       "<IPython.core.display.Javascript object>"
      ]
     },
     "metadata": {},
     "output_type": "display_data"
    }
   ],
   "source": [
    "# define a function to insert space in flight number\n",
    "def insert_space_after_letters(test_str: str):\n",
    "    res = re.sub(\"[A-Za-z]+\", lambda ele: ele[0] + \" \", test_str)\n",
    "    return res"
   ]
  },
  {
   "cell_type": "code",
   "execution_count": 4,
   "id": "bcb02edd",
   "metadata": {
    "ExecuteTime": {
     "end_time": "2021-07-05T07:15:33.161575Z",
     "start_time": "2021-07-05T07:15:30.692910Z"
    }
   },
   "outputs": [
    {
     "data": {
      "application/javascript": "\n            setTimeout(function() {\n                var nbb_cell_id = 4;\n                var nbb_unformatted_code = \"# import the schedule from the excel file produced by Aero department\\n# data_arr = pd.read_excel(\\n#     path_data,\\n#     header=0,\\n#     sheet_name=\\\"ARR\\\",\\n# )\\n\\ndata_dep = pd.read_excel(\\n    path_data,\\n    header=0,\\n    sheet_name=\\\"DEP\\\",\\n)\";\n                var nbb_formatted_code = \"# import the schedule from the excel file produced by Aero department\\n# data_arr = pd.read_excel(\\n#     path_data,\\n#     header=0,\\n#     sheet_name=\\\"ARR\\\",\\n# )\\n\\ndata_dep = pd.read_excel(\\n    path_data,\\n    header=0,\\n    sheet_name=\\\"DEP\\\",\\n)\";\n                var nbb_cells = Jupyter.notebook.get_cells();\n                for (var i = 0; i < nbb_cells.length; ++i) {\n                    if (nbb_cells[i].input_prompt_number == nbb_cell_id) {\n                        if (nbb_cells[i].get_text() == nbb_unformatted_code) {\n                             nbb_cells[i].set_text(nbb_formatted_code);\n                        }\n                        break;\n                    }\n                }\n            }, 500);\n            ",
      "text/plain": [
       "<IPython.core.display.Javascript object>"
      ]
     },
     "metadata": {},
     "output_type": "display_data"
    }
   ],
   "source": [
    "# import the schedule from the excel file produced by Aero department\n",
    "# data_arr = pd.read_excel(\n",
    "#     path_data,\n",
    "#     header=0,\n",
    "#     sheet_name=\"ARR\",\n",
    "# )\n",
    "\n",
    "data_dep = pd.read_excel(\n",
    "    path_data,\n",
    "    header=0,\n",
    "    sheet_name=\"DEP\",\n",
    ")\n",
    "\n"
   ]
  },
  {
   "cell_type": "code",
   "execution_count": 5,
   "id": "536620a8",
   "metadata": {},
   "outputs": [
    {
     "data": {
      "text/html": [
       "<div>\n",
       "<style scoped>\n",
       "    .dataframe tbody tr th:only-of-type {\n",
       "        vertical-align: middle;\n",
       "    }\n",
       "\n",
       "    .dataframe tbody tr th {\n",
       "        vertical-align: top;\n",
       "    }\n",
       "\n",
       "    .dataframe thead th {\n",
       "        text-align: right;\n",
       "    }\n",
       "</style>\n",
       "<table border=\"1\" class=\"dataframe\">\n",
       "  <thead>\n",
       "    <tr style=\"text-align: right;\">\n",
       "      <th></th>\n",
       "      <th>運航者</th>\n",
       "      <th>航空機識別</th>\n",
       "      <th>型式</th>\n",
       "      <th>登録記号</th>\n",
       "      <th>目的地</th>\n",
       "      <th>ｽﾎﾟｯﾄ番号</th>\n",
       "      <th>DI区分</th>\n",
       "      <th>貨客区分</th>\n",
       "      <th>目的</th>\n",
       "      <th>定期区分</th>\n",
       "      <th>...</th>\n",
       "      <th>ICAO Code</th>\n",
       "      <th>座席数</th>\n",
       "      <th>重量</th>\n",
       "      <th>搭乗者数</th>\n",
       "      <th>L/F</th>\n",
       "      <th>ピーク時整理用</th>\n",
       "      <th>大型化</th>\n",
       "      <th>Unnamed: 28</th>\n",
       "      <th>Unnamed: 29</th>\n",
       "      <th>Unnamed: 30</th>\n",
       "    </tr>\n",
       "  </thead>\n",
       "  <tbody>\n",
       "    <tr>\n",
       "      <th>0</th>\n",
       "      <td>NCA</td>\n",
       "      <td>NCA283</td>\n",
       "      <td>B744</td>\n",
       "      <td>JA05KZ</td>\n",
       "      <td>WSSS</td>\n",
       "      <td>214</td>\n",
       "      <td>I</td>\n",
       "      <td>C</td>\n",
       "      <td>SI</td>\n",
       "      <td>S</td>\n",
       "      <td>...</td>\n",
       "      <td>E</td>\n",
       "      <td>-</td>\n",
       "      <td>-</td>\n",
       "      <td>-</td>\n",
       "      <td>-</td>\n",
       "      <td>2017-03-18 00:00:00</td>\n",
       "      <td>NaN</td>\n",
       "      <td>NaN</td>\n",
       "      <td>NaN</td>\n",
       "      <td>NaN</td>\n",
       "    </tr>\n",
       "    <tr>\n",
       "      <th>1</th>\n",
       "      <td>TAX</td>\n",
       "      <td>TAX611</td>\n",
       "      <td>A333</td>\n",
       "      <td>HSXTF</td>\n",
       "      <td>VTBD</td>\n",
       "      <td>39</td>\n",
       "      <td>I</td>\n",
       "      <td>P</td>\n",
       "      <td>SI</td>\n",
       "      <td>S</td>\n",
       "      <td>...</td>\n",
       "      <td>E</td>\n",
       "      <td>377</td>\n",
       "      <td>235</td>\n",
       "      <td>348.65</td>\n",
       "      <td>0.924801</td>\n",
       "      <td>2017-03-18 00:00:00</td>\n",
       "      <td>NaN</td>\n",
       "      <td>NaN</td>\n",
       "      <td>NaN</td>\n",
       "      <td>NaN</td>\n",
       "    </tr>\n",
       "    <tr>\n",
       "      <th>2</th>\n",
       "      <td>ANA</td>\n",
       "      <td>ANA8559</td>\n",
       "      <td>B763</td>\n",
       "      <td>JA8323</td>\n",
       "      <td>ROAH</td>\n",
       "      <td>212</td>\n",
       "      <td>D</td>\n",
       "      <td>C</td>\n",
       "      <td>SD</td>\n",
       "      <td>S</td>\n",
       "      <td>...</td>\n",
       "      <td>D</td>\n",
       "      <td>-</td>\n",
       "      <td>-</td>\n",
       "      <td>-</td>\n",
       "      <td>-</td>\n",
       "      <td>2017-03-18 00:00:00</td>\n",
       "      <td>NaN</td>\n",
       "      <td>NaN</td>\n",
       "      <td>NaN</td>\n",
       "      <td>NaN</td>\n",
       "    </tr>\n",
       "    <tr>\n",
       "      <th>3</th>\n",
       "      <td>JAL</td>\n",
       "      <td>JAL727</td>\n",
       "      <td>B788</td>\n",
       "      <td>JA830J</td>\n",
       "      <td>VTBS</td>\n",
       "      <td>31</td>\n",
       "      <td>I</td>\n",
       "      <td>P</td>\n",
       "      <td>SI</td>\n",
       "      <td>S</td>\n",
       "      <td>...</td>\n",
       "      <td>E</td>\n",
       "      <td>186</td>\n",
       "      <td>200</td>\n",
       "      <td>173.85</td>\n",
       "      <td>0.934677</td>\n",
       "      <td>2017-03-18 00:00:00</td>\n",
       "      <td>NaN</td>\n",
       "      <td>NaN</td>\n",
       "      <td>NaN</td>\n",
       "      <td>NaN</td>\n",
       "    </tr>\n",
       "    <tr>\n",
       "      <th>4</th>\n",
       "      <td>FDX</td>\n",
       "      <td>FDX96</td>\n",
       "      <td>B77L</td>\n",
       "      <td>N869FD</td>\n",
       "      <td>ZSPD</td>\n",
       "      <td>252</td>\n",
       "      <td>I</td>\n",
       "      <td>C</td>\n",
       "      <td>SI</td>\n",
       "      <td>S</td>\n",
       "      <td>...</td>\n",
       "      <td>E</td>\n",
       "      <td>-</td>\n",
       "      <td>-</td>\n",
       "      <td>-</td>\n",
       "      <td>-</td>\n",
       "      <td>2017-03-18 01:00:00</td>\n",
       "      <td>NaN</td>\n",
       "      <td>NaN</td>\n",
       "      <td>NaN</td>\n",
       "      <td>NaN</td>\n",
       "    </tr>\n",
       "    <tr>\n",
       "      <th>...</th>\n",
       "      <td>...</td>\n",
       "      <td>...</td>\n",
       "      <td>...</td>\n",
       "      <td>...</td>\n",
       "      <td>...</td>\n",
       "      <td>...</td>\n",
       "      <td>...</td>\n",
       "      <td>...</td>\n",
       "      <td>...</td>\n",
       "      <td>...</td>\n",
       "      <td>...</td>\n",
       "      <td>...</td>\n",
       "      <td>...</td>\n",
       "      <td>...</td>\n",
       "      <td>...</td>\n",
       "      <td>...</td>\n",
       "      <td>...</td>\n",
       "      <td>...</td>\n",
       "      <td>...</td>\n",
       "      <td>...</td>\n",
       "      <td>...</td>\n",
       "    </tr>\n",
       "    <tr>\n",
       "      <th>648</th>\n",
       "      <td>NEW</td>\n",
       "      <td>NEW128</td>\n",
       "      <td>A333</td>\n",
       "      <td>NEW128</td>\n",
       "      <td>xxxx</td>\n",
       "      <td>CG9</td>\n",
       "      <td>I</td>\n",
       "      <td>P</td>\n",
       "      <td>SI</td>\n",
       "      <td>S</td>\n",
       "      <td>...</td>\n",
       "      <td>E</td>\n",
       "      <td>NaN</td>\n",
       "      <td>NaN</td>\n",
       "      <td>266</td>\n",
       "      <td>-</td>\n",
       "      <td>2017-03-19 14:00:00</td>\n",
       "      <td>NaN</td>\n",
       "      <td>NaN</td>\n",
       "      <td>NaN</td>\n",
       "      <td>NaN</td>\n",
       "    </tr>\n",
       "    <tr>\n",
       "      <th>649</th>\n",
       "      <td>NEW</td>\n",
       "      <td>NEW129</td>\n",
       "      <td>A320</td>\n",
       "      <td>NEW129</td>\n",
       "      <td>xxxx</td>\n",
       "      <td>CG9</td>\n",
       "      <td>I</td>\n",
       "      <td>P</td>\n",
       "      <td>SI</td>\n",
       "      <td>S</td>\n",
       "      <td>...</td>\n",
       "      <td>C</td>\n",
       "      <td>NaN</td>\n",
       "      <td>NaN</td>\n",
       "      <td>147.25</td>\n",
       "      <td>-</td>\n",
       "      <td>2017-03-19 16:00:00</td>\n",
       "      <td>NaN</td>\n",
       "      <td>NaN</td>\n",
       "      <td>NaN</td>\n",
       "      <td>NaN</td>\n",
       "    </tr>\n",
       "    <tr>\n",
       "      <th>650</th>\n",
       "      <td>NEW</td>\n",
       "      <td>NEW130</td>\n",
       "      <td>A333</td>\n",
       "      <td>NEW130</td>\n",
       "      <td>xxxx</td>\n",
       "      <td>CG9</td>\n",
       "      <td>I</td>\n",
       "      <td>P</td>\n",
       "      <td>SI</td>\n",
       "      <td>S</td>\n",
       "      <td>...</td>\n",
       "      <td>E</td>\n",
       "      <td>NaN</td>\n",
       "      <td>NaN</td>\n",
       "      <td>266</td>\n",
       "      <td>-</td>\n",
       "      <td>2017-03-19 19:00:00</td>\n",
       "      <td>NaN</td>\n",
       "      <td>NaN</td>\n",
       "      <td>NaN</td>\n",
       "      <td>NaN</td>\n",
       "    </tr>\n",
       "    <tr>\n",
       "      <th>651</th>\n",
       "      <td>NEW</td>\n",
       "      <td>NEW131</td>\n",
       "      <td>A320</td>\n",
       "      <td>NEW131</td>\n",
       "      <td>xxxx</td>\n",
       "      <td>CG9</td>\n",
       "      <td>I</td>\n",
       "      <td>P</td>\n",
       "      <td>SI</td>\n",
       "      <td>S</td>\n",
       "      <td>...</td>\n",
       "      <td>C</td>\n",
       "      <td>NaN</td>\n",
       "      <td>NaN</td>\n",
       "      <td>147.25</td>\n",
       "      <td>-</td>\n",
       "      <td>2017-03-19 21:00:00</td>\n",
       "      <td>NaN</td>\n",
       "      <td>NaN</td>\n",
       "      <td>NaN</td>\n",
       "      <td>NaN</td>\n",
       "    </tr>\n",
       "    <tr>\n",
       "      <th>652</th>\n",
       "      <td>NEW</td>\n",
       "      <td>NEW134</td>\n",
       "      <td>A333</td>\n",
       "      <td>NEW134</td>\n",
       "      <td>xxxx</td>\n",
       "      <td>CG9</td>\n",
       "      <td>I</td>\n",
       "      <td>P</td>\n",
       "      <td>SI</td>\n",
       "      <td>S</td>\n",
       "      <td>...</td>\n",
       "      <td>E</td>\n",
       "      <td>NaN</td>\n",
       "      <td>NaN</td>\n",
       "      <td>266</td>\n",
       "      <td>-</td>\n",
       "      <td>2017-03-19 11:00:00</td>\n",
       "      <td>NaN</td>\n",
       "      <td>NaN</td>\n",
       "      <td>NaN</td>\n",
       "      <td>NaN</td>\n",
       "    </tr>\n",
       "  </tbody>\n",
       "</table>\n",
       "<p>653 rows × 31 columns</p>\n",
       "</div>"
      ],
      "text/plain": [
       "     運航者    航空機識別    型式     登録記号   目的地 ｽﾎﾟｯﾄ番号 DI区分 貨客区分  目的 定期区分  ...  \\\n",
       "0    NCA  NCA283   B744  JA05KZ   WSSS     214    I    C  SI    S  ...   \n",
       "1    TAX  TAX611   A333  HSXTF    VTBD      39    I    P  SI    S  ...   \n",
       "2    ANA  ANA8559  B763  JA8323   ROAH     212    D    C  SD    S  ...   \n",
       "3    JAL  JAL727   B788  JA830J   VTBS      31    I    P  SI    S  ...   \n",
       "4    FDX  FDX96    B77L  N869FD   ZSPD     252    I    C  SI    S  ...   \n",
       "..   ...      ...   ...      ...   ...     ...  ...  ...  ..  ...  ...   \n",
       "648  NEW   NEW128  A333   NEW128  xxxx     CG9    I    P  SI    S  ...   \n",
       "649  NEW   NEW129  A320   NEW129  xxxx     CG9    I    P  SI    S  ...   \n",
       "650  NEW   NEW130  A333   NEW130  xxxx     CG9    I    P  SI    S  ...   \n",
       "651  NEW   NEW131  A320   NEW131  xxxx     CG9    I    P  SI    S  ...   \n",
       "652  NEW   NEW134  A333   NEW134  xxxx     CG9    I    P  SI    S  ...   \n",
       "\n",
       "    ICAO Code  座席数   重量    搭乗者数       L/F             ピーク時整理用 大型化 Unnamed: 28  \\\n",
       "0           E    -    -       -         - 2017-03-18 00:00:00 NaN         NaN   \n",
       "1           E  377  235  348.65  0.924801 2017-03-18 00:00:00 NaN         NaN   \n",
       "2           D    -    -       -         - 2017-03-18 00:00:00 NaN         NaN   \n",
       "3           E  186  200  173.85  0.934677 2017-03-18 00:00:00 NaN         NaN   \n",
       "4           E    -    -       -         - 2017-03-18 01:00:00 NaN         NaN   \n",
       "..        ...  ...  ...     ...       ...                 ...  ..         ...   \n",
       "648         E  NaN  NaN     266         - 2017-03-19 14:00:00 NaN         NaN   \n",
       "649         C  NaN  NaN  147.25         - 2017-03-19 16:00:00 NaN         NaN   \n",
       "650         E  NaN  NaN     266         - 2017-03-19 19:00:00 NaN         NaN   \n",
       "651         C  NaN  NaN  147.25         - 2017-03-19 21:00:00 NaN         NaN   \n",
       "652         E  NaN  NaN     266         - 2017-03-19 11:00:00 NaN         NaN   \n",
       "\n",
       "    Unnamed: 29 Unnamed: 30  \n",
       "0           NaN         NaN  \n",
       "1           NaN         NaN  \n",
       "2           NaN         NaN  \n",
       "3           NaN         NaN  \n",
       "4           NaN         NaN  \n",
       "..          ...         ...  \n",
       "648         NaN         NaN  \n",
       "649         NaN         NaN  \n",
       "650         NaN         NaN  \n",
       "651         NaN         NaN  \n",
       "652         NaN         NaN  \n",
       "\n",
       "[653 rows x 31 columns]"
      ]
     },
     "execution_count": 5,
     "metadata": {},
     "output_type": "execute_result"
    },
    {
     "data": {
      "application/javascript": "\n            setTimeout(function() {\n                var nbb_cell_id = 5;\n                var nbb_unformatted_code = \"data_dep\";\n                var nbb_formatted_code = \"data_dep\";\n                var nbb_cells = Jupyter.notebook.get_cells();\n                for (var i = 0; i < nbb_cells.length; ++i) {\n                    if (nbb_cells[i].input_prompt_number == nbb_cell_id) {\n                        if (nbb_cells[i].get_text() == nbb_unformatted_code) {\n                             nbb_cells[i].set_text(nbb_formatted_code);\n                        }\n                        break;\n                    }\n                }\n            }, 500);\n            ",
      "text/plain": [
       "<IPython.core.display.Javascript object>"
      ]
     },
     "metadata": {},
     "output_type": "display_data"
    }
   ],
   "source": [
    "data_dep"
   ]
  },
  {
   "cell_type": "code",
   "execution_count": 6,
   "id": "89ff2fe8",
   "metadata": {
    "ExecuteTime": {
     "end_time": "2021-07-05T07:15:34.337587Z",
     "start_time": "2021-07-05T07:15:34.073333Z"
    }
   },
   "outputs": [
    {
     "ename": "NameError",
     "evalue": "name 'data_arr' is not defined",
     "output_type": "error",
     "traceback": [
      "\u001b[0;31m---------------------------------------------------------------------------\u001b[0m",
      "\u001b[0;31mNameError\u001b[0m                                 Traceback (most recent call last)",
      "\u001b[0;32m/tmp/ipykernel_528/3714628370.py\u001b[0m in \u001b[0;36m<module>\u001b[0;34m\u001b[0m\n\u001b[1;32m      1\u001b[0m \u001b[0;31m# edit data to match application format\u001b[0m\u001b[0;34m\u001b[0m\u001b[0;34m\u001b[0m\u001b[0;34m\u001b[0m\u001b[0m\n\u001b[0;32m----> 2\u001b[0;31m \u001b[0mdata_arr_processed\u001b[0m \u001b[0;34m=\u001b[0m \u001b[0mdata_arr\u001b[0m\u001b[0;34m.\u001b[0m\u001b[0mcopy\u001b[0m\u001b[0;34m(\u001b[0m\u001b[0;34m)\u001b[0m\u001b[0;34m\u001b[0m\u001b[0;34m\u001b[0m\u001b[0m\n\u001b[0m\u001b[1;32m      3\u001b[0m \u001b[0mdata_arr_processed\u001b[0m\u001b[0;34m[\u001b[0m\u001b[0;34m\"A/D\"\u001b[0m\u001b[0;34m]\u001b[0m \u001b[0;34m=\u001b[0m \u001b[0;34m\"A\"\u001b[0m\u001b[0;34m\u001b[0m\u001b[0;34m\u001b[0m\u001b[0m\n\u001b[1;32m      4\u001b[0m \u001b[0mdata_arr_processed\u001b[0m\u001b[0;34m[\u001b[0m\u001b[0;34m\"T1/T2(MM/9C/7C/TW)\"\u001b[0m\u001b[0;34m]\u001b[0m \u001b[0;34m=\u001b[0m \u001b[0;34m\"T1\"\u001b[0m\u001b[0;34m\u001b[0m\u001b[0;34m\u001b[0m\u001b[0m\n\u001b[1;32m      5\u001b[0m \u001b[0mdata_arr_processed\u001b[0m\u001b[0;34m[\u001b[0m\u001b[0;34m\"Int'l Regions\"\u001b[0m\u001b[0;34m]\u001b[0m \u001b[0;34m=\u001b[0m \u001b[0;34m\"unknown\"\u001b[0m\u001b[0;34m\u001b[0m\u001b[0;34m\u001b[0m\u001b[0m\n",
      "\u001b[0;31mNameError\u001b[0m: name 'data_arr' is not defined"
     ]
    },
    {
     "data": {
      "application/javascript": "\n            setTimeout(function() {\n                var nbb_cell_id = 6;\n                var nbb_unformatted_code = \"# edit data to match application format\\ndata_arr_processed = data_arr.copy()\\ndata_arr_processed[\\\"A/D\\\"] = \\\"A\\\"\\ndata_arr_processed[\\\"T1/T2(MM/9C/7C/TW)\\\"] = \\\"T1\\\"\\ndata_arr_processed[\\\"Int'l Regions\\\"] = \\\"unknown\\\"\\n\\ndct_name_change = {\\n    \\\"\\u8ca8\\u5ba2\\u533a\\u5206\\\": \\\"Category(P/C/O)\\\",\\n    \\\"DI\\u533a\\u5206\\\": \\\"Sector\\\",\\n    \\\"\\u822a\\u7a7a\\u6a5f\\u8b58\\u5225\\\": \\\"Flight Number\\\",  # <- to be split with space between letters and digits\\n    \\\"\\u5ea7\\u5e2d\\u6570\\\": \\\"SEATS FC\\\",\\n    \\\"\\u642d\\u4e57\\u8005\\u6570\\\": \\\"Pax_SUM FC\\\",\\n    \\\"\\u5230\\u7740\\u4e88\\u5b9a\\u65e5\\\": \\\"Flight Date\\\",\\n    \\\"STA\\\": \\\"Scheduled Time\\\",\\n}\\n\\ndata_arr_processed.rename(columns=dct_name_change, inplace=True)\\n\\ndata_arr_processed[\\\"Flight Number\\\"] = data_arr_processed[\\\"Flight Number\\\"].apply(\\n    insert_space_after_letters\\n)\";\n                var nbb_formatted_code = \"# edit data to match application format\\ndata_arr_processed = data_arr.copy()\\ndata_arr_processed[\\\"A/D\\\"] = \\\"A\\\"\\ndata_arr_processed[\\\"T1/T2(MM/9C/7C/TW)\\\"] = \\\"T1\\\"\\ndata_arr_processed[\\\"Int'l Regions\\\"] = \\\"unknown\\\"\\n\\ndct_name_change = {\\n    \\\"\\u8ca8\\u5ba2\\u533a\\u5206\\\": \\\"Category(P/C/O)\\\",\\n    \\\"DI\\u533a\\u5206\\\": \\\"Sector\\\",\\n    \\\"\\u822a\\u7a7a\\u6a5f\\u8b58\\u5225\\\": \\\"Flight Number\\\",  # <- to be split with space between letters and digits\\n    \\\"\\u5ea7\\u5e2d\\u6570\\\": \\\"SEATS FC\\\",\\n    \\\"\\u642d\\u4e57\\u8005\\u6570\\\": \\\"Pax_SUM FC\\\",\\n    \\\"\\u5230\\u7740\\u4e88\\u5b9a\\u65e5\\\": \\\"Flight Date\\\",\\n    \\\"STA\\\": \\\"Scheduled Time\\\",\\n}\\n\\ndata_arr_processed.rename(columns=dct_name_change, inplace=True)\\n\\ndata_arr_processed[\\\"Flight Number\\\"] = data_arr_processed[\\\"Flight Number\\\"].apply(\\n    insert_space_after_letters\\n)\";\n                var nbb_cells = Jupyter.notebook.get_cells();\n                for (var i = 0; i < nbb_cells.length; ++i) {\n                    if (nbb_cells[i].input_prompt_number == nbb_cell_id) {\n                        if (nbb_cells[i].get_text() == nbb_unformatted_code) {\n                             nbb_cells[i].set_text(nbb_formatted_code);\n                        }\n                        break;\n                    }\n                }\n            }, 500);\n            ",
      "text/plain": [
       "<IPython.core.display.Javascript object>"
      ]
     },
     "metadata": {},
     "output_type": "display_data"
    }
   ],
   "source": [
    "# edit data to match application format\n",
    "data_arr_processed = data_arr.copy()\n",
    "data_arr_processed[\"A/D\"] = \"A\"\n",
    "data_arr_processed[\"T1/T2(MM/9C/7C/TW)\"] = \"T1\"\n",
    "data_arr_processed[\"Int'l Regions\"] = \"unknown\"\n",
    "\n",
    "dct_name_change = {\n",
    "    \"貨客区分\": \"Category(P/C/O)\",\n",
    "    \"DI区分\": \"Sector\",\n",
    "    \"航空機識別\": \"Flight Number\",  # <- to be split with space between letters and digits\n",
    "    \"座席数\": \"SEATS FC\",\n",
    "    \"搭乗者数\": \"Pax_SUM FC\",\n",
    "    \"到着予定日\": \"Flight Date\",\n",
    "    \"STA\": \"Scheduled Time\",\n",
    "}\n",
    "\n",
    "data_arr_processed.rename(columns=dct_name_change, inplace=True)\n",
    "\n",
    "data_arr_processed[\"Flight Number\"] = data_arr_processed[\"Flight Number\"].apply(\n",
    "    insert_space_after_letters\n",
    ")"
   ]
  },
  {
   "cell_type": "code",
   "execution_count": 7,
   "id": "50aa637d",
   "metadata": {
    "ExecuteTime": {
     "end_time": "2021-07-05T07:15:35.245183Z",
     "start_time": "2021-07-05T07:15:35.019033Z"
    }
   },
   "outputs": [
    {
     "data": {
      "application/javascript": "\n            setTimeout(function() {\n                var nbb_cell_id = 7;\n                var nbb_unformatted_code = \"# problem : no Seats and Pax number for arrival flights...\\n# keep only relevant columns\\n# data_arr_processed = data_arr_processed[\\n#    [\\n#        \\\"A/D\\\",\\n#        \\\"T1/T2(MM/9C/7C/TW)\\\",\\n#        \\\"Int'l Regions\\\",\\n#        \\\"Category(P/C/O)\\\",\\n#        \\\"Sector\\\",\\n#        \\\"Flight Number\\\",\\n#        \\\"SEATS FC\\\",\\n#        \\\"Pax_SUM FC\\\",\\n#        \\\"Flight Date\\\",\\n#        \\\"Scheduled Time\\\",\\n#    ]\\n# ]\";\n                var nbb_formatted_code = \"# problem : no Seats and Pax number for arrival flights...\\n# keep only relevant columns\\n# data_arr_processed = data_arr_processed[\\n#    [\\n#        \\\"A/D\\\",\\n#        \\\"T1/T2(MM/9C/7C/TW)\\\",\\n#        \\\"Int'l Regions\\\",\\n#        \\\"Category(P/C/O)\\\",\\n#        \\\"Sector\\\",\\n#        \\\"Flight Number\\\",\\n#        \\\"SEATS FC\\\",\\n#        \\\"Pax_SUM FC\\\",\\n#        \\\"Flight Date\\\",\\n#        \\\"Scheduled Time\\\",\\n#    ]\\n# ]\";\n                var nbb_cells = Jupyter.notebook.get_cells();\n                for (var i = 0; i < nbb_cells.length; ++i) {\n                    if (nbb_cells[i].input_prompt_number == nbb_cell_id) {\n                        if (nbb_cells[i].get_text() == nbb_unformatted_code) {\n                             nbb_cells[i].set_text(nbb_formatted_code);\n                        }\n                        break;\n                    }\n                }\n            }, 500);\n            ",
      "text/plain": [
       "<IPython.core.display.Javascript object>"
      ]
     },
     "metadata": {},
     "output_type": "display_data"
    }
   ],
   "source": [
    "# problem : no Seats and Pax number for arrival flights...\n",
    "# keep only relevant columns\n",
    "# data_arr_processed = data_arr_processed[\n",
    "#    [\n",
    "#        \"A/D\",\n",
    "#        \"T1/T2(MM/9C/7C/TW)\",\n",
    "#        \"Int'l Regions\",\n",
    "#        \"Category(P/C/O)\",\n",
    "#        \"Sector\",\n",
    "#        \"Flight Number\",\n",
    "#        \"SEATS FC\",\n",
    "#        \"Pax_SUM FC\",\n",
    "#        \"Flight Date\",\n",
    "#        \"Scheduled Time\",\n",
    "#    ]\n",
    "# ]"
   ]
  },
  {
   "cell_type": "code",
   "execution_count": 8,
   "id": "3744a334",
   "metadata": {
    "ExecuteTime": {
     "end_time": "2021-07-05T07:15:36.138816Z",
     "start_time": "2021-07-05T07:15:35.880155Z"
    }
   },
   "outputs": [
    {
     "data": {
      "application/javascript": "\n            setTimeout(function() {\n                var nbb_cell_id = 8;\n                var nbb_unformatted_code = \"# edit data to match application format\\ndata_dep_processed = data_dep.copy()\\n\\ndata_dep_processed[\\\"A/D\\\"] = \\\"D\\\"\\ndata_dep_processed[\\\"T1/T2(MM/9C/7C/TW)\\\"] = \\\"T1\\\"\\ndata_dep_processed[\\\"Intl Regions\\\"] = \\\"unknown\\\"\\n\\ndct_name_change = {\\n    \\\"\\u8ca8\\u5ba2\\u533a\\u5206\\\": \\\"Category(P/C/O)\\\",\\n    \\\"DI\\u533a\\u5206\\\": \\\"Sector\\\",\\n    \\\"\\u822a\\u7a7a\\u6a5f\\u8b58\\u5225\\\": \\\"Flight Number\\\",  # <- to be split with space between letters and digits\\n    \\\"\\u5ea7\\u5e2d\\u6570\\\": \\\"SEATS FC\\\",\\n    \\\"\\u642d\\u4e57\\u8005\\u6570\\\": \\\"PAX_SUM FC\\\",\\n    \\\"\\u51fa\\u767a\\u4e88\\u5b9a\\u65e5\\\": \\\"Flight Date\\\",\\n    \\\"STD\\\": \\\"Scheduled Time\\\",\\n}\\n\\ndata_dep_processed.rename(columns=dct_name_change, inplace=True)\";\n                var nbb_formatted_code = \"# edit data to match application format\\ndata_dep_processed = data_dep.copy()\\n\\ndata_dep_processed[\\\"A/D\\\"] = \\\"D\\\"\\ndata_dep_processed[\\\"T1/T2(MM/9C/7C/TW)\\\"] = \\\"T1\\\"\\ndata_dep_processed[\\\"Intl Regions\\\"] = \\\"unknown\\\"\\n\\ndct_name_change = {\\n    \\\"\\u8ca8\\u5ba2\\u533a\\u5206\\\": \\\"Category(P/C/O)\\\",\\n    \\\"DI\\u533a\\u5206\\\": \\\"Sector\\\",\\n    \\\"\\u822a\\u7a7a\\u6a5f\\u8b58\\u5225\\\": \\\"Flight Number\\\",  # <- to be split with space between letters and digits\\n    \\\"\\u5ea7\\u5e2d\\u6570\\\": \\\"SEATS FC\\\",\\n    \\\"\\u642d\\u4e57\\u8005\\u6570\\\": \\\"PAX_SUM FC\\\",\\n    \\\"\\u51fa\\u767a\\u4e88\\u5b9a\\u65e5\\\": \\\"Flight Date\\\",\\n    \\\"STD\\\": \\\"Scheduled Time\\\",\\n}\\n\\ndata_dep_processed.rename(columns=dct_name_change, inplace=True)\";\n                var nbb_cells = Jupyter.notebook.get_cells();\n                for (var i = 0; i < nbb_cells.length; ++i) {\n                    if (nbb_cells[i].input_prompt_number == nbb_cell_id) {\n                        if (nbb_cells[i].get_text() == nbb_unformatted_code) {\n                             nbb_cells[i].set_text(nbb_formatted_code);\n                        }\n                        break;\n                    }\n                }\n            }, 500);\n            ",
      "text/plain": [
       "<IPython.core.display.Javascript object>"
      ]
     },
     "metadata": {},
     "output_type": "display_data"
    }
   ],
   "source": [
    "# edit data to match application format\n",
    "data_dep_processed = data_dep.copy()\n",
    "\n",
    "data_dep_processed[\"A/D\"] = \"D\"\n",
    "data_dep_processed[\"T1/T2(MM/9C/7C/TW)\"] = \"T1\"\n",
    "data_dep_processed[\"Intl Regions\"] = \"unknown\"\n",
    "\n",
    "dct_name_change = {\n",
    "    \"貨客区分\": \"Category(P/C/O)\",\n",
    "    \"DI区分\": \"Sector\",\n",
    "    \"航空機識別\": \"Flight Number\",  # <- to be split with space between letters and digits\n",
    "    \"座席数\": \"SEATS FC\",\n",
    "    \"搭乗者数\": \"PAX_SUM FC\",\n",
    "    \"出発予定日\": \"Flight Date\",\n",
    "    \"STD\": \"Scheduled Time\",\n",
    "}\n",
    "\n",
    "data_dep_processed.rename(columns=dct_name_change, inplace=True)\n"
   ]
  },
  {
   "cell_type": "code",
   "execution_count": 10,
   "id": "ebe4cc10",
   "metadata": {},
   "outputs": [
    {
     "data": {
      "application/javascript": "\n            setTimeout(function() {\n                var nbb_cell_id = 10;\n                var nbb_unformatted_code = \"\\ndata_dep_processed[\\\"Flight Number\\\"] = data_dep_processed[\\\"Flight Number\\\"].apply(\\n    insert_space_after_letters\\n)\";\n                var nbb_formatted_code = \"data_dep_processed[\\\"Flight Number\\\"] = data_dep_processed[\\\"Flight Number\\\"].apply(\\n    insert_space_after_letters\\n)\";\n                var nbb_cells = Jupyter.notebook.get_cells();\n                for (var i = 0; i < nbb_cells.length; ++i) {\n                    if (nbb_cells[i].input_prompt_number == nbb_cell_id) {\n                        if (nbb_cells[i].get_text() == nbb_unformatted_code) {\n                             nbb_cells[i].set_text(nbb_formatted_code);\n                        }\n                        break;\n                    }\n                }\n            }, 500);\n            ",
      "text/plain": [
       "<IPython.core.display.Javascript object>"
      ]
     },
     "metadata": {},
     "output_type": "display_data"
    }
   ],
   "source": [
    "\n",
    "data_dep_processed[\"Flight Number\"] = data_dep_processed[\"Flight Number\"].apply(\n",
    "    insert_space_after_letters\n",
    ")"
   ]
  },
  {
   "cell_type": "code",
   "execution_count": 11,
   "id": "c231a431",
   "metadata": {
    "ExecuteTime": {
     "end_time": "2021-07-05T07:15:46.095988Z",
     "start_time": "2021-07-05T07:15:45.818503Z"
    }
   },
   "outputs": [
    {
     "data": {
      "application/javascript": "\n            setTimeout(function() {\n                var nbb_cell_id = 11;\n                var nbb_unformatted_code = \"# keep only relevant columns\\ndata_dep_processed = data_dep_processed[\\n    [\\n        \\\"A/D\\\",\\n        \\\"T1/T2(MM/9C/7C/TW)\\\",\\n        \\\"Intl Regions\\\",\\n        \\\"Category(P/C/O)\\\",\\n        \\\"Sector\\\",\\n        \\\"Flight Number\\\",\\n        \\\"SEATS FC\\\",\\n        \\\"PAX_SUM FC\\\",\\n        \\\"Flight Date\\\",\\n        \\\"Scheduled Time\\\",\\n    ]\\n]\";\n                var nbb_formatted_code = \"# keep only relevant columns\\ndata_dep_processed = data_dep_processed[\\n    [\\n        \\\"A/D\\\",\\n        \\\"T1/T2(MM/9C/7C/TW)\\\",\\n        \\\"Intl Regions\\\",\\n        \\\"Category(P/C/O)\\\",\\n        \\\"Sector\\\",\\n        \\\"Flight Number\\\",\\n        \\\"SEATS FC\\\",\\n        \\\"PAX_SUM FC\\\",\\n        \\\"Flight Date\\\",\\n        \\\"Scheduled Time\\\",\\n    ]\\n]\";\n                var nbb_cells = Jupyter.notebook.get_cells();\n                for (var i = 0; i < nbb_cells.length; ++i) {\n                    if (nbb_cells[i].input_prompt_number == nbb_cell_id) {\n                        if (nbb_cells[i].get_text() == nbb_unformatted_code) {\n                             nbb_cells[i].set_text(nbb_formatted_code);\n                        }\n                        break;\n                    }\n                }\n            }, 500);\n            ",
      "text/plain": [
       "<IPython.core.display.Javascript object>"
      ]
     },
     "metadata": {},
     "output_type": "display_data"
    }
   ],
   "source": [
    "# keep only relevant columns\n",
    "data_dep_processed = data_dep_processed[\n",
    "    [\n",
    "        \"A/D\",\n",
    "        \"T1/T2(MM/9C/7C/TW)\",\n",
    "        \"Intl Regions\",\n",
    "        \"Category(P/C/O)\",\n",
    "        \"Sector\",\n",
    "        \"Flight Number\",\n",
    "        \"SEATS FC\",\n",
    "        \"PAX_SUM FC\",\n",
    "        \"Flight Date\",\n",
    "        \"Scheduled Time\",\n",
    "    ]\n",
    "]\n"
   ]
  },
  {
   "cell_type": "code",
   "execution_count": 12,
   "id": "af8dc9bc",
   "metadata": {},
   "outputs": [
    {
     "data": {
      "text/html": [
       "<div>\n",
       "<style scoped>\n",
       "    .dataframe tbody tr th:only-of-type {\n",
       "        vertical-align: middle;\n",
       "    }\n",
       "\n",
       "    .dataframe tbody tr th {\n",
       "        vertical-align: top;\n",
       "    }\n",
       "\n",
       "    .dataframe thead th {\n",
       "        text-align: right;\n",
       "    }\n",
       "</style>\n",
       "<table border=\"1\" class=\"dataframe\">\n",
       "  <thead>\n",
       "    <tr style=\"text-align: right;\">\n",
       "      <th></th>\n",
       "      <th>A/D</th>\n",
       "      <th>T1/T2(MM/9C/7C/TW)</th>\n",
       "      <th>Intl Regions</th>\n",
       "      <th>Category(P/C/O)</th>\n",
       "      <th>Sector</th>\n",
       "      <th>Flight Number</th>\n",
       "      <th>SEATS FC</th>\n",
       "      <th>PAX_SUM FC</th>\n",
       "      <th>Flight Date</th>\n",
       "      <th>Scheduled Time</th>\n",
       "    </tr>\n",
       "  </thead>\n",
       "  <tbody>\n",
       "    <tr>\n",
       "      <th>0</th>\n",
       "      <td>D</td>\n",
       "      <td>T1</td>\n",
       "      <td>unknown</td>\n",
       "      <td>C</td>\n",
       "      <td>I</td>\n",
       "      <td>NCA 283</td>\n",
       "      <td>-</td>\n",
       "      <td>-</td>\n",
       "      <td>2017-03-18</td>\n",
       "      <td>00:05:00</td>\n",
       "    </tr>\n",
       "    <tr>\n",
       "      <th>1</th>\n",
       "      <td>D</td>\n",
       "      <td>T1</td>\n",
       "      <td>unknown</td>\n",
       "      <td>P</td>\n",
       "      <td>I</td>\n",
       "      <td>TAX 611</td>\n",
       "      <td>377</td>\n",
       "      <td>348.65</td>\n",
       "      <td>2017-03-18</td>\n",
       "      <td>00:10:00</td>\n",
       "    </tr>\n",
       "    <tr>\n",
       "      <th>2</th>\n",
       "      <td>D</td>\n",
       "      <td>T1</td>\n",
       "      <td>unknown</td>\n",
       "      <td>C</td>\n",
       "      <td>D</td>\n",
       "      <td>ANA 8559</td>\n",
       "      <td>-</td>\n",
       "      <td>-</td>\n",
       "      <td>2017-03-18</td>\n",
       "      <td>00:05:00</td>\n",
       "    </tr>\n",
       "    <tr>\n",
       "      <th>3</th>\n",
       "      <td>D</td>\n",
       "      <td>T1</td>\n",
       "      <td>unknown</td>\n",
       "      <td>P</td>\n",
       "      <td>I</td>\n",
       "      <td>JAL 727</td>\n",
       "      <td>186</td>\n",
       "      <td>173.85</td>\n",
       "      <td>2017-03-18</td>\n",
       "      <td>00:40:00</td>\n",
       "    </tr>\n",
       "    <tr>\n",
       "      <th>4</th>\n",
       "      <td>D</td>\n",
       "      <td>T1</td>\n",
       "      <td>unknown</td>\n",
       "      <td>C</td>\n",
       "      <td>I</td>\n",
       "      <td>FDX 96</td>\n",
       "      <td>-</td>\n",
       "      <td>-</td>\n",
       "      <td>2017-03-18</td>\n",
       "      <td>01:10:00</td>\n",
       "    </tr>\n",
       "    <tr>\n",
       "      <th>...</th>\n",
       "      <td>...</td>\n",
       "      <td>...</td>\n",
       "      <td>...</td>\n",
       "      <td>...</td>\n",
       "      <td>...</td>\n",
       "      <td>...</td>\n",
       "      <td>...</td>\n",
       "      <td>...</td>\n",
       "      <td>...</td>\n",
       "      <td>...</td>\n",
       "    </tr>\n",
       "    <tr>\n",
       "      <th>648</th>\n",
       "      <td>D</td>\n",
       "      <td>T1</td>\n",
       "      <td>unknown</td>\n",
       "      <td>P</td>\n",
       "      <td>I</td>\n",
       "      <td>NEW 128</td>\n",
       "      <td>NaN</td>\n",
       "      <td>266</td>\n",
       "      <td>2017-03-19</td>\n",
       "      <td>14:30:00</td>\n",
       "    </tr>\n",
       "    <tr>\n",
       "      <th>649</th>\n",
       "      <td>D</td>\n",
       "      <td>T1</td>\n",
       "      <td>unknown</td>\n",
       "      <td>P</td>\n",
       "      <td>I</td>\n",
       "      <td>NEW 129</td>\n",
       "      <td>NaN</td>\n",
       "      <td>147.25</td>\n",
       "      <td>2017-03-19</td>\n",
       "      <td>16:40:00</td>\n",
       "    </tr>\n",
       "    <tr>\n",
       "      <th>650</th>\n",
       "      <td>D</td>\n",
       "      <td>T1</td>\n",
       "      <td>unknown</td>\n",
       "      <td>P</td>\n",
       "      <td>I</td>\n",
       "      <td>NEW 130</td>\n",
       "      <td>NaN</td>\n",
       "      <td>266</td>\n",
       "      <td>2017-03-19</td>\n",
       "      <td>19:30:00</td>\n",
       "    </tr>\n",
       "    <tr>\n",
       "      <th>651</th>\n",
       "      <td>D</td>\n",
       "      <td>T1</td>\n",
       "      <td>unknown</td>\n",
       "      <td>P</td>\n",
       "      <td>I</td>\n",
       "      <td>NEW 131</td>\n",
       "      <td>NaN</td>\n",
       "      <td>147.25</td>\n",
       "      <td>2017-03-19</td>\n",
       "      <td>21:20:00</td>\n",
       "    </tr>\n",
       "    <tr>\n",
       "      <th>652</th>\n",
       "      <td>D</td>\n",
       "      <td>T1</td>\n",
       "      <td>unknown</td>\n",
       "      <td>P</td>\n",
       "      <td>I</td>\n",
       "      <td>NEW 134</td>\n",
       "      <td>NaN</td>\n",
       "      <td>266</td>\n",
       "      <td>2017-03-19</td>\n",
       "      <td>11:30:00</td>\n",
       "    </tr>\n",
       "  </tbody>\n",
       "</table>\n",
       "<p>653 rows × 10 columns</p>\n",
       "</div>"
      ],
      "text/plain": [
       "    A/D T1/T2(MM/9C/7C/TW) Intl Regions Category(P/C/O) Sector Flight Number  \\\n",
       "0     D                 T1      unknown               C      I      NCA 283    \n",
       "1     D                 T1      unknown               P      I      TAX 611    \n",
       "2     D                 T1      unknown               C      D      ANA 8559   \n",
       "3     D                 T1      unknown               P      I      JAL 727    \n",
       "4     D                 T1      unknown               C      I      FDX 96     \n",
       "..   ..                ...          ...             ...    ...           ...   \n",
       "648   D                 T1      unknown               P      I       NEW 128   \n",
       "649   D                 T1      unknown               P      I       NEW 129   \n",
       "650   D                 T1      unknown               P      I       NEW 130   \n",
       "651   D                 T1      unknown               P      I       NEW 131   \n",
       "652   D                 T1      unknown               P      I       NEW 134   \n",
       "\n",
       "    SEATS FC PAX_SUM FC Flight Date Scheduled Time  \n",
       "0          -          -  2017-03-18       00:05:00  \n",
       "1        377     348.65  2017-03-18       00:10:00  \n",
       "2          -          -  2017-03-18       00:05:00  \n",
       "3        186     173.85  2017-03-18       00:40:00  \n",
       "4          -          -  2017-03-18       01:10:00  \n",
       "..       ...        ...         ...            ...  \n",
       "648      NaN        266  2017-03-19       14:30:00  \n",
       "649      NaN     147.25  2017-03-19       16:40:00  \n",
       "650      NaN        266  2017-03-19       19:30:00  \n",
       "651      NaN     147.25  2017-03-19       21:20:00  \n",
       "652      NaN        266  2017-03-19       11:30:00  \n",
       "\n",
       "[653 rows x 10 columns]"
      ]
     },
     "execution_count": 12,
     "metadata": {},
     "output_type": "execute_result"
    },
    {
     "data": {
      "application/javascript": "\n            setTimeout(function() {\n                var nbb_cell_id = 12;\n                var nbb_unformatted_code = \"data_dep_processed\";\n                var nbb_formatted_code = \"data_dep_processed\";\n                var nbb_cells = Jupyter.notebook.get_cells();\n                for (var i = 0; i < nbb_cells.length; ++i) {\n                    if (nbb_cells[i].input_prompt_number == nbb_cell_id) {\n                        if (nbb_cells[i].get_text() == nbb_unformatted_code) {\n                             nbb_cells[i].set_text(nbb_formatted_code);\n                        }\n                        break;\n                    }\n                }\n            }, 500);\n            ",
      "text/plain": [
       "<IPython.core.display.Javascript object>"
      ]
     },
     "metadata": {},
     "output_type": "display_data"
    }
   ],
   "source": [
    "data_dep_processed"
   ]
  },
  {
   "cell_type": "code",
   "execution_count": 13,
   "id": "1b077721",
   "metadata": {},
   "outputs": [
    {
     "data": {
      "text/plain": [
       "datetime.time"
      ]
     },
     "execution_count": 13,
     "metadata": {},
     "output_type": "execute_result"
    },
    {
     "data": {
      "application/javascript": "\n            setTimeout(function() {\n                var nbb_cell_id = 13;\n                var nbb_unformatted_code = \"type(data_dep_processed[\\\"Scheduled Time\\\"][0])\";\n                var nbb_formatted_code = \"type(data_dep_processed[\\\"Scheduled Time\\\"][0])\";\n                var nbb_cells = Jupyter.notebook.get_cells();\n                for (var i = 0; i < nbb_cells.length; ++i) {\n                    if (nbb_cells[i].input_prompt_number == nbb_cell_id) {\n                        if (nbb_cells[i].get_text() == nbb_unformatted_code) {\n                             nbb_cells[i].set_text(nbb_formatted_code);\n                        }\n                        break;\n                    }\n                }\n            }, 500);\n            ",
      "text/plain": [
       "<IPython.core.display.Javascript object>"
      ]
     },
     "metadata": {},
     "output_type": "display_data"
    }
   ],
   "source": [
    "type(data_dep_processed[\"Scheduled Time\"][0])"
   ]
  },
  {
   "cell_type": "code",
   "execution_count": 15,
   "id": "fcb00abc",
   "metadata": {},
   "outputs": [
    {
     "data": {
      "application/javascript": "\n            setTimeout(function() {\n                var nbb_cell_id = 15;\n                var nbb_unformatted_code = \"data_dep_processed['datetime'] = pd.to_datetime(data_dep_processed['Flight Date'].astype('str') + ' '  +data_dep_processed['Scheduled Time'].astype('str'))\";\n                var nbb_formatted_code = \"data_dep_processed[\\\"datetime\\\"] = pd.to_datetime(\\n    data_dep_processed[\\\"Flight Date\\\"].astype(\\\"str\\\")\\n    + \\\" \\\"\\n    + data_dep_processed[\\\"Scheduled Time\\\"].astype(\\\"str\\\")\\n)\";\n                var nbb_cells = Jupyter.notebook.get_cells();\n                for (var i = 0; i < nbb_cells.length; ++i) {\n                    if (nbb_cells[i].input_prompt_number == nbb_cell_id) {\n                        if (nbb_cells[i].get_text() == nbb_unformatted_code) {\n                             nbb_cells[i].set_text(nbb_formatted_code);\n                        }\n                        break;\n                    }\n                }\n            }, 500);\n            ",
      "text/plain": [
       "<IPython.core.display.Javascript object>"
      ]
     },
     "metadata": {},
     "output_type": "display_data"
    }
   ],
   "source": [
    "data_dep_processed['datetime'] = pd.to_datetime(data_dep_processed['Flight Date'].astype('str') + ' '  +data_dep_processed['Scheduled Time'].astype('str'))"
   ]
  },
  {
   "cell_type": "code",
   "execution_count": 16,
   "id": "0787544b",
   "metadata": {},
   "outputs": [
    {
     "data": {
      "text/plain": [
       "pandas._libs.tslibs.timestamps.Timestamp"
      ]
     },
     "execution_count": 16,
     "metadata": {},
     "output_type": "execute_result"
    },
    {
     "data": {
      "application/javascript": "\n            setTimeout(function() {\n                var nbb_cell_id = 16;\n                var nbb_unformatted_code = \"type(data_dep_processed['datetime'][0])\";\n                var nbb_formatted_code = \"type(data_dep_processed[\\\"datetime\\\"][0])\";\n                var nbb_cells = Jupyter.notebook.get_cells();\n                for (var i = 0; i < nbb_cells.length; ++i) {\n                    if (nbb_cells[i].input_prompt_number == nbb_cell_id) {\n                        if (nbb_cells[i].get_text() == nbb_unformatted_code) {\n                             nbb_cells[i].set_text(nbb_formatted_code);\n                        }\n                        break;\n                    }\n                }\n            }, 500);\n            ",
      "text/plain": [
       "<IPython.core.display.Javascript object>"
      ]
     },
     "metadata": {},
     "output_type": "display_data"
    }
   ],
   "source": [
    "type(data_dep_processed['datetime'][0])"
   ]
  },
  {
   "cell_type": "code",
   "execution_count": 17,
   "id": "ba15b1d1",
   "metadata": {},
   "outputs": [
    {
     "ename": "NameError",
     "evalue": "name 'mask_date' is not defined",
     "output_type": "error",
     "traceback": [
      "\u001b[0;31m---------------------------------------------------------------------------\u001b[0m",
      "\u001b[0;31mNameError\u001b[0m                                 Traceback (most recent call last)",
      "\u001b[0;32m/tmp/ipykernel_528/1104930796.py\u001b[0m in \u001b[0;36m<module>\u001b[0;34m\u001b[0m\n\u001b[0;32m----> 1\u001b[0;31m \u001b[0mdata_dep_processed\u001b[0m\u001b[0;34m[\u001b[0m\u001b[0mmask_date\u001b[0m\u001b[0;34m]\u001b[0m\u001b[0;34m.\u001b[0m\u001b[0mset_index\u001b[0m\u001b[0;34m(\u001b[0m\u001b[0;34m'datetime'\u001b[0m\u001b[0;34m)\u001b[0m\u001b[0;34m[\u001b[0m\u001b[0;34m'PAX_SUM FC'\u001b[0m\u001b[0;34m]\u001b[0m\u001b[0;34m.\u001b[0m\u001b[0mreplace\u001b[0m\u001b[0;34m(\u001b[0m\u001b[0;34m'-'\u001b[0m\u001b[0;34m,\u001b[0m\u001b[0mvalue\u001b[0m\u001b[0;34m=\u001b[0m\u001b[0;36m0\u001b[0m\u001b[0;34m)\u001b[0m\u001b[0;34m.\u001b[0m\u001b[0mresample\u001b[0m\u001b[0;34m(\u001b[0m\u001b[0;34m'60min'\u001b[0m\u001b[0;34m)\u001b[0m\u001b[0;34m.\u001b[0m\u001b[0magg\u001b[0m\u001b[0;34m(\u001b[0m\u001b[0;34m'sum'\u001b[0m\u001b[0;34m)\u001b[0m\u001b[0;34m.\u001b[0m\u001b[0mplot\u001b[0m\u001b[0;34m(\u001b[0m\u001b[0;34m)\u001b[0m\u001b[0;34m\u001b[0m\u001b[0;34m\u001b[0m\u001b[0m\n\u001b[0m",
      "\u001b[0;31mNameError\u001b[0m: name 'mask_date' is not defined"
     ]
    },
    {
     "data": {
      "application/javascript": "\n            setTimeout(function() {\n                var nbb_cell_id = 17;\n                var nbb_unformatted_code = \"data_dep_processed[mask_date].set_index('datetime')['PAX_SUM FC'].replace('-',value=0).resample('60min').agg('sum').plot()\";\n                var nbb_formatted_code = \"data_dep_processed[mask_date].set_index(\\\"datetime\\\")[\\\"PAX_SUM FC\\\"].replace(\\n    \\\"-\\\", value=0\\n).resample(\\\"60min\\\").agg(\\\"sum\\\").plot()\";\n                var nbb_cells = Jupyter.notebook.get_cells();\n                for (var i = 0; i < nbb_cells.length; ++i) {\n                    if (nbb_cells[i].input_prompt_number == nbb_cell_id) {\n                        if (nbb_cells[i].get_text() == nbb_unformatted_code) {\n                             nbb_cells[i].set_text(nbb_formatted_code);\n                        }\n                        break;\n                    }\n                }\n            }, 500);\n            ",
      "text/plain": [
       "<IPython.core.display.Javascript object>"
      ]
     },
     "metadata": {},
     "output_type": "display_data"
    }
   ],
   "source": [
    "data_dep_processed[mask_date].set_index('datetime')['PAX_SUM FC'].replace('-',value=0).resample('60min').agg('sum').plot()"
   ]
  },
  {
   "cell_type": "code",
   "execution_count": 20,
   "id": "fb030ec9",
   "metadata": {},
   "outputs": [
    {
     "data": {
      "application/javascript": "\n            setTimeout(function() {\n                var nbb_cell_id = 20;\n                var nbb_unformatted_code = \"\\n# correct input mistake (?)\\nmask_replace = data_dep_processed[\\\"PAX_SUM FC\\\"] == \\\"-\\\"\\ndata_dep_processed.loc[mask_replace, \\\"PAX_SUM FC\\\"] = 0\\n\\nmask_replace = data_dep_processed[\\\"SEATS FC\\\"] == \\\"-\\\"\\ndata_dep_processed.loc[mask_replace, \\\"SEATS FC\\\"] = 0\";\n                var nbb_formatted_code = \"# correct input mistake (?)\\nmask_replace = data_dep_processed[\\\"PAX_SUM FC\\\"] == \\\"-\\\"\\ndata_dep_processed.loc[mask_replace, \\\"PAX_SUM FC\\\"] = 0\\n\\nmask_replace = data_dep_processed[\\\"SEATS FC\\\"] == \\\"-\\\"\\ndata_dep_processed.loc[mask_replace, \\\"SEATS FC\\\"] = 0\";\n                var nbb_cells = Jupyter.notebook.get_cells();\n                for (var i = 0; i < nbb_cells.length; ++i) {\n                    if (nbb_cells[i].input_prompt_number == nbb_cell_id) {\n                        if (nbb_cells[i].get_text() == nbb_unformatted_code) {\n                             nbb_cells[i].set_text(nbb_formatted_code);\n                        }\n                        break;\n                    }\n                }\n            }, 500);\n            ",
      "text/plain": [
       "<IPython.core.display.Javascript object>"
      ]
     },
     "metadata": {},
     "output_type": "display_data"
    }
   ],
   "source": [
    "\n",
    "# correct input mistake (?)\n",
    "mask_replace = data_dep_processed[\"PAX_SUM FC\"] == \"-\"\n",
    "data_dep_processed.loc[mask_replace, \"PAX_SUM FC\"] = 0\n",
    "\n",
    "mask_replace = data_dep_processed[\"SEATS FC\"] == \"-\"\n",
    "data_dep_processed.loc[mask_replace, \"SEATS FC\"] = 0\n"
   ]
  },
  {
   "cell_type": "code",
   "execution_count": 22,
   "id": "5ccf075d",
   "metadata": {
    "ExecuteTime": {
     "end_time": "2021-07-05T07:23:42.855026Z",
     "start_time": "2021-07-05T07:23:42.605314Z"
    }
   },
   "outputs": [
    {
     "data": {
      "application/javascript": "\n            setTimeout(function() {\n                var nbb_cell_id = 22;\n                var nbb_unformatted_code = \"# fill in the seats number where missing\\ndef custom_func_seats(pax):\\n    if pax == 147.25:\\n        seats = 180\\n    if pax == 266:\\n        seats = 285\\n    return seats\\n\\n\\nmask_NEW_no_seats = (\\n    data_dep_processed[\\\"Flight Number\\\"].apply(lambda x: x.split(\\\" \\\")[0]) == \\\"NEW\\\"\\n) & (data_dep_processed[\\\"SEATS FC\\\"].apply(lambda x: np.isnan(x)))\\n\\ndata_dep_processed.loc[mask_NEW_no_seats, \\\"SEATS FC\\\"] = data_dep_processed.loc[\\n    mask_NEW_no_seats, \\\"PAX_SUM FC\\\"\\n].apply(lambda x: custom_func_seats(x))\";\n                var nbb_formatted_code = \"# fill in the seats number where missing\\ndef custom_func_seats(pax):\\n    if pax == 147.25:\\n        seats = 180\\n    if pax == 266:\\n        seats = 285\\n    return seats\\n\\n\\nmask_NEW_no_seats = (\\n    data_dep_processed[\\\"Flight Number\\\"].apply(lambda x: x.split(\\\" \\\")[0]) == \\\"NEW\\\"\\n) & (data_dep_processed[\\\"SEATS FC\\\"].apply(lambda x: np.isnan(x)))\\n\\ndata_dep_processed.loc[mask_NEW_no_seats, \\\"SEATS FC\\\"] = data_dep_processed.loc[\\n    mask_NEW_no_seats, \\\"PAX_SUM FC\\\"\\n].apply(lambda x: custom_func_seats(x))\";\n                var nbb_cells = Jupyter.notebook.get_cells();\n                for (var i = 0; i < nbb_cells.length; ++i) {\n                    if (nbb_cells[i].input_prompt_number == nbb_cell_id) {\n                        if (nbb_cells[i].get_text() == nbb_unformatted_code) {\n                             nbb_cells[i].set_text(nbb_formatted_code);\n                        }\n                        break;\n                    }\n                }\n            }, 500);\n            ",
      "text/plain": [
       "<IPython.core.display.Javascript object>"
      ]
     },
     "metadata": {},
     "output_type": "display_data"
    }
   ],
   "source": [
    "# fill in the seats number where missing\n",
    "def custom_func_seats(pax):\n",
    "    if pax == 147.25:\n",
    "        seats = 180\n",
    "    if pax == 266:\n",
    "        seats = 285\n",
    "    return seats\n",
    "\n",
    "\n",
    "mask_NEW_no_seats = (\n",
    "    data_dep_processed[\"Flight Number\"].apply(lambda x: x.split(\" \")[0]) == \"NEW\"\n",
    ") & (data_dep_processed[\"SEATS FC\"].apply(lambda x: np.isnan(x)))\n",
    "\n",
    "data_dep_processed.loc[mask_NEW_no_seats, \"SEATS FC\"] = data_dep_processed.loc[\n",
    "    mask_NEW_no_seats, \"PAX_SUM FC\"\n",
    "].apply(lambda x: custom_func_seats(x))"
   ]
  },
  {
   "cell_type": "code",
   "execution_count": null,
   "id": "dcf5a062",
   "metadata": {
    "ExecuteTime": {
     "end_time": "2021-07-05T07:23:43.802624Z",
     "start_time": "2021-07-05T07:23:43.564587Z"
    }
   },
   "outputs": [],
   "source": [
    "# we should add a step to merge the two in one\n",
    "# as we do not have seats and Pax for T1 schedule, let's forget about it for now"
   ]
  },
  {
   "cell_type": "code",
   "execution_count": 23,
   "id": "716bf4ef",
   "metadata": {
    "ExecuteTime": {
     "end_time": "2021-07-05T07:23:48.358367Z",
     "start_time": "2021-07-05T07:23:47.510003Z"
    }
   },
   "outputs": [
    {
     "data": {
      "application/javascript": "\n            setTimeout(function() {\n                var nbb_cell_id = 23;\n                var nbb_unformatted_code = \"output_path = (\\n    Path(os.getcwd())\\n    / \\\"../../../data/processed/Schedule (30th terminal peak, 6000 pax)_PROCESSED.xlsx\\\"\\n)\\n\\nwriter = pd.ExcelWriter(\\n    output_path,\\n)\\n\\nwith writer as writer:\\n    data_dep_processed.to_excel(writer, sheet_name=\\\"schedule\\\")\";\n                var nbb_formatted_code = \"output_path = (\\n    Path(os.getcwd())\\n    / \\\"../../../data/processed/Schedule (30th terminal peak, 6000 pax)_PROCESSED.xlsx\\\"\\n)\\n\\nwriter = pd.ExcelWriter(\\n    output_path,\\n)\\n\\nwith writer as writer:\\n    data_dep_processed.to_excel(writer, sheet_name=\\\"schedule\\\")\";\n                var nbb_cells = Jupyter.notebook.get_cells();\n                for (var i = 0; i < nbb_cells.length; ++i) {\n                    if (nbb_cells[i].input_prompt_number == nbb_cell_id) {\n                        if (nbb_cells[i].get_text() == nbb_unformatted_code) {\n                             nbb_cells[i].set_text(nbb_formatted_code);\n                        }\n                        break;\n                    }\n                }\n            }, 500);\n            ",
      "text/plain": [
       "<IPython.core.display.Javascript object>"
      ]
     },
     "metadata": {},
     "output_type": "display_data"
    }
   ],
   "source": [
    "output_path = (\n",
    "    Path(os.getcwd())\n",
    "    / \"../../../data/processed/Schedule (30th terminal peak, 6000 pax)_PROCESSED.xlsx\"\n",
    ")\n",
    "\n",
    "writer = pd.ExcelWriter(\n",
    "    output_path,\n",
    ")\n",
    "\n",
    "with writer as writer:\n",
    "    data_dep_processed.to_excel(writer, sheet_name=\"schedule\")"
   ]
  }
 ],
 "metadata": {
  "hide_input": false,
  "kernelspec": {
   "display_name": "Python 3.8.10 ('KAPpaxsim2')",
   "language": "python",
   "name": "python3"
  },
  "language_info": {
   "codemirror_mode": {
    "name": "ipython",
    "version": 3
   },
   "file_extension": ".py",
   "mimetype": "text/x-python",
   "name": "python",
   "nbconvert_exporter": "python",
   "pygments_lexer": "ipython3",
   "version": "3.8.10"
  },
  "toc": {
   "base_numbering": 1,
   "nav_menu": {},
   "number_sections": true,
   "sideBar": true,
   "skip_h1_title": false,
   "title_cell": "Table of Contents",
   "title_sidebar": "Contents",
   "toc_cell": false,
   "toc_position": {},
   "toc_section_display": true,
   "toc_window_display": false
  },
  "varInspector": {
   "cols": {
    "lenName": 16,
    "lenType": 16,
    "lenVar": 40
   },
   "kernels_config": {
    "python": {
     "delete_cmd_postfix": "",
     "delete_cmd_prefix": "del ",
     "library": "var_list.py",
     "varRefreshCmd": "print(var_dic_list())"
    },
    "r": {
     "delete_cmd_postfix": ") ",
     "delete_cmd_prefix": "rm(",
     "library": "var_list.r",
     "varRefreshCmd": "cat(var_dic_list()) "
    }
   },
   "types_to_exclude": [
    "module",
    "function",
    "builtin_function_or_method",
    "instance",
    "_Feature"
   ],
   "window_display": false
  },
  "vscode": {
   "interpreter": {
    "hash": "4c4973e1e6190f1e3af68026dc4e45895c2ff553257c31d946968dcd66892506"
   }
  }
 },
 "nbformat": 4,
 "nbformat_minor": 5
}
